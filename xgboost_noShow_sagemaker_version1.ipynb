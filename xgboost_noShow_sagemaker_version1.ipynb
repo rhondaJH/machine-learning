{
 "cells": [
  {
   "cell_type": "markdown",
   "metadata": {},
   "source": [
    "# Predicting Appointment No Shows  with Amazon SageMaker XGBoost\n",
    "_**Supervised Learning with Gradient Boosted Trees: A Binary Prediction Problem**_\n",
    "\n",
    "---\n",
    "\n",
    "---\n",
    "\n",
    "## Contents\n",
    "\n",
    "1. [Background](#Background)\n",
    "1. [Prepration](#Preparation)\n",
    "1. [Data](#Data)\n",
    "    1. [Exploration](#Exploration)\n",
    "    1. [Transformation](#Transformation)\n",
    "1. [Training](#Training)\n",
    "1. [Hosting](#Hosting)\n",
    "1. [Evaluation](#Evaluation)\n",
    "1. [Exentsions](#Extensions)\n",
    "\n",
    "---\n",
    "\n",
    "## Background\n",
    "\n",
    "\n",
    "This notebook uses XGBoost to predict whether a patient will be a no-show for a medical appointment.The dataset was downloaded from Kaggle https://www.kaggle.com/joniarroba/noshowappointments. The appointment data of 110,527 records was collected from medical clinics in the city of Vitoria, Brazil, over a three month period in 2016.\n",
    "\n",
    "The following steps were undertaken:\n",
    "\n",
    "* Preparing your Amazon SageMaker notebook\n",
    "* Downloading data from the internet into Amazon SageMaker\n",
    "* Investigating and transforming the data so that it can be fed to Amazon SageMaker algorithms\n",
    "* Estimating a model using the Gradient Boosting algorithm\n",
    "* Evaluating the effectiveness of the model\n",
    "* Setting the model up to make on-going predictions\n",
    "\n",
    "---\n",
    "\n",
    "## Preparation\n",
    "\n",
    "_This notebook was created and tested on an ml.m4.xlarge notebook instance._\n",
    "\n",
    "Let's start by specifying:\n",
    "\n",
    "- The S3 bucket and prefix that you want to use for training and model data.  This should be within the same region as the Notebook Instance, training, and hosting.\n",
    "- The IAM role arn used to give training and hosting access to your data. See the documentation for how to create these.  Note, if more than one role is required for notebook instances, training, and/or hosting, please replace the boto regexp with a the appropriate full IAM role arn string(s).\n",
    "\n",
    "## Notes\n",
    "The first model uses age and waiting time as continuous features. However, the model performs poorly as the recall is very low."
   ]
  },
  {
   "cell_type": "code",
   "execution_count": null,
   "metadata": {
    "isConfigCell": true,
    "tags": [
     "parameters"
    ]
   },
   "outputs": [],
   "source": [
    "bucket = 'sagemaker-sf-strategenics'\n",
    "prefix = 'sagemaker/DEMO-xgboost-noShow'\n",
    " \n",
    "# Define IAM role\n",
    "import boto3\n",
    "import re\n",
    "from sagemaker import get_execution_role\n",
    "\n",
    "role = get_execution_role()"
   ]
  },
  {
   "cell_type": "markdown",
   "metadata": {},
   "source": [
    "Bring in the Python libraries that we'll use throughout the analysis"
   ]
  },
  {
   "cell_type": "code",
   "execution_count": null,
   "metadata": {},
   "outputs": [],
   "source": [
    "from datetime import date\n",
    "from datetime import time\n",
    "from datetime import datetime\n",
    "import numpy as np                                # For matrix operations and numerical processing\n",
    "import pandas as pd                               # For munging tabular data\n",
    "import matplotlib.pyplot as plt                   # For charts and visualizations\n",
    "from IPython.display import Image                 # For displaying images in the notebook\n",
    "from IPython.display import display               # For displaying outputs in the notebook\n",
    "from time import gmtime, strftime                 # For labeling SageMaker models, endpoints, etc.\n",
    "import sys                                        # For writing outputs to notebook\n",
    "import math                                       # For ceiling function\n",
    "import json                                       # For parsing hosting outputs\n",
    "import os                                         # For manipulating filepath names\n",
    "import sagemaker                                  # Amazon SageMaker's Python SDK provides many helper functions\n",
    "from sagemaker.predictor import csv_serializer    # Converts strings for HTTP POST requests on inference\n",
    "import seaborn as sns"
   ]
  },
  {
   "cell_type": "markdown",
   "metadata": {},
   "source": [
    "---\n",
    "\n",
    "## Data\n",
    "The csv file containing the data is stored in an S3 bucket. First let's read the data file into a Pandas data frame."
   ]
  },
  {
   "cell_type": "code",
   "execution_count": 3,
   "metadata": {},
   "outputs": [
    {
     "name": "stdout",
     "output_type": "stream",
     "text": [
      "<class 'pandas.core.frame.DataFrame'>\n",
      "RangeIndex: 110527 entries, 0 to 110526\n",
      "Data columns (total 14 columns):\n",
      "PatientId         110527 non-null float64\n",
      "AppointmentID     110527 non-null int64\n",
      "Gender            110527 non-null object\n",
      "ScheduledDay      110527 non-null object\n",
      "AppointmentDay    110527 non-null object\n",
      "Age               110527 non-null int64\n",
      "Neighbourhood     110527 non-null object\n",
      "Scholarship       110527 non-null int64\n",
      "Hipertension      110527 non-null int64\n",
      "Diabetes          110527 non-null int64\n",
      "Alcoholism        110527 non-null int64\n",
      "Handcap           110527 non-null int64\n",
      "SMS_received      110527 non-null int64\n",
      "No-show           110527 non-null object\n",
      "dtypes: float64(1), int64(8), object(5)\n",
      "memory usage: 11.8+ MB\n"
     ]
    }
   ],
   "source": [
    "data_key = 'appointmentData.csv'\n",
    "data_location = 's3://{}/{}'.format(bucket, data_key)\n",
    "\n",
    "noShow= pd.read_csv(data_location)\n",
    "\n",
    "pd.set_option('display.max_columns', 500)     # Make sure we can see all of the columns\n",
    "pd.set_option('display.max_rows', 20)         # Keep the output on one page\n",
    "noShow\n",
    "noShow.info()"
   ]
  },
  {
   "cell_type": "markdown",
   "metadata": {},
   "source": [
    "Let's start by renaming some of the columns"
   ]
  },
  {
   "cell_type": "code",
   "execution_count": 4,
   "metadata": {},
   "outputs": [
    {
     "name": "stdout",
     "output_type": "stream",
     "text": [
      "Index(['PatientId', 'AppointmentID', 'Gender', 'ScheduledDay',\n",
      "       'AppointmentDay', 'Age', 'Neighbourhood', 'Scholarship', 'Hypertension',\n",
      "       'Diabetes', 'Alcoholism', 'Disabilities', 'SMS_received', 'No-show'],\n",
      "      dtype='object')\n"
     ]
    }
   ],
   "source": [
    "noShow.rename(columns = {'Hipertension': 'Hypertension',\n",
    "                         'Handcap': 'Disabilities'}, inplace = True)\n",
    "\n",
    "print(noShow.columns)"
   ]
  },
  {
   "cell_type": "markdown",
   "metadata": {},
   "source": [
    "As we have the date that the appointment was scheduled and the date of the appointment, we can calculate the number of days that the patient waited for the appointment.\n",
    "\n",
    "First we have to convert the two date columns to a date format."
   ]
  },
  {
   "cell_type": "code",
   "execution_count": 5,
   "metadata": {},
   "outputs": [
    {
     "name": "stdout",
     "output_type": "stream",
     "text": [
      "0    2016-04-29\n",
      "1    2016-04-29\n",
      "2    2016-04-29\n",
      "3    2016-04-29\n",
      "4    2016-04-29\n",
      "Name: AppointmentBooked, dtype: object\n",
      "0    2016-04-29\n",
      "1    2016-04-29\n",
      "2    2016-04-29\n",
      "3    2016-04-29\n",
      "4    2016-04-29\n",
      "Name: AppointmentDate, dtype: object\n",
      "0    0\n",
      "1    0\n",
      "2    0\n",
      "3    0\n",
      "4    0\n",
      "Name: WaitingTime, dtype: int64\n"
     ]
    }
   ],
   "source": [
    "#convert date columns to a date format\n",
    "noShow['tempSchedDate'] = pd.to_datetime(noShow['ScheduledDay'])\n",
    "noShow['tempAppDate'] = pd.to_datetime(noShow['AppointmentDay'])\n",
    "#get the date part of the date columns, as the Scheduled date has a time component but the appointment day does not\n",
    "noShow['AppointmentDate']= noShow['tempAppDate'].dt.date\n",
    "noShow['AppointmentBooked']= noShow['tempSchedDate'].dt.date\n",
    "#calculate the waiting time\n",
    "noShow['WaitingTime'] = (noShow.AppointmentDate - noShow.AppointmentBooked).dt.days\n",
    "\n",
    "print(noShow.AppointmentBooked.head())\n",
    "print(noShow.AppointmentDate.head())\n",
    "print(noShow.WaitingTime.head())\n",
    "pd.set_option('display.max_columns', 500)     # Make sure we can see all of the columns\n",
    "pd.set_option('display.max_rows', 20)         # Keep the output on one page\n"
   ]
  },
  {
   "cell_type": "markdown",
   "metadata": {},
   "source": [
    "Calculate the day of the week for the appointment day and drop the original scheduled and appointment columns."
   ]
  },
  {
   "cell_type": "code",
   "execution_count": 6,
   "metadata": {},
   "outputs": [
    {
     "name": "stdout",
     "output_type": "stream",
     "text": [
      "0    2016-04-29\n",
      "1    2016-04-29\n",
      "2    2016-04-29\n",
      "3    2016-04-29\n",
      "4    2016-04-29\n",
      "Name: AppointmentDate, dtype: object\n",
      "0    Friday\n",
      "1    Friday\n",
      "2    Friday\n",
      "3    Friday\n",
      "4    Friday\n",
      "Name: DayOfWeek, dtype: object\n",
      "Day of week: ['Friday', 'Monday', 'Saturday', 'Thursday', 'Tuesday', 'Wednesday']\n"
     ]
    }
   ],
   "source": [
    "#Find the day of the week of the appointment\n",
    "noShow['DayOfWeek'] = noShow['tempAppDate'].dt.day_name()\n",
    "\n",
    "#drop the columns no longer needed\n",
    "noShow = noShow.drop(['ScheduledDay','AppointmentDay','tempSchedDate','tempAppDate'], axis=1)\n",
    "\n",
    "print(noShow.AppointmentDate.head())\n",
    "print(noShow.DayOfWeek.head())\n",
    "print('Day of week:', sorted(noShow.DayOfWeek.unique()))"
   ]
  },
  {
   "cell_type": "markdown",
   "metadata": {},
   "source": [
    "Check that we don't have any duplicate data by looking at the appointmentID which should be unique."
   ]
  },
  {
   "cell_type": "code",
   "execution_count": null,
   "metadata": {},
   "outputs": [],
   "source": [
    "print('Total appointments: ' + format(noShow.shape[0], \",d\"))\n",
    "print('Unique appointments: ' + format(noShow['AppointmentID'].unique().shape[0], \",d\"))"
   ]
  },
  {
   "cell_type": "markdown",
   "metadata": {},
   "source": [
    "    There are no duplicate Appointment IDs so we will index the data by AppointmentID. We also need to convert PatientId to an integer."
   ]
  },
  {
   "cell_type": "code",
   "execution_count": 7,
   "metadata": {},
   "outputs": [
    {
     "name": "stdout",
     "output_type": "stream",
     "text": [
      "0     29872499824296\n",
      "1    558997776694438\n",
      "2      4262962299951\n",
      "3       867951213174\n",
      "4      8841186448183\n",
      "Name: PatientId, dtype: int64\n"
     ]
    }
   ],
   "source": [
    "noShow.PatientId = noShow.PatientId.astype('int64')\n",
    "print(noShow.PatientId.head())\n",
    "noShow.set_index('AppointmentID', inplace = True)"
   ]
  },
  {
   "cell_type": "code",
   "execution_count": null,
   "metadata": {},
   "outputs": [],
   "source": [
    "noShow\n",
    "noShow.info()"
   ]
  },
  {
   "cell_type": "markdown",
   "metadata": {},
   "source": [
    "### Exploration\n",
    "Let's start exploring the data.  First, let's understand how the features are distributed."
   ]
  },
  {
   "cell_type": "code",
   "execution_count": null,
   "metadata": {
    "scrolled": false
   },
   "outputs": [],
   "source": [
    "# Frequency tables for each categorical feature\n",
    "for column in noShow.select_dtypes(include=['object']).columns:\n",
    "    display(pd.crosstab(index=noShow[column], columns='% observations', normalize='columns'))\n",
    "\n",
    "# Histograms for each numeric features\n",
    "display(noShow.describe())\n",
    "%matplotlib inline\n",
    "hist = noShow.hist(bins=30, figsize=(10, 10))\n",
    "\n",
    "print('Age:', sorted(noShow.Age.unique()))\n",
    "print('Waiting time:', sorted(noShow.WaitingTime.unique()))\n"
   ]
  },
  {
   "cell_type": "markdown",
   "metadata": {},
   "source": [
    "\n",
    "# Data Summary\n",
    "\n",
    "* There are 110,527 patient records, and 13 features for each patient\n",
    "* The features are mixed; some numeric, some categorical\n",
    "\n",
    "\n",
    "*Features:*\n",
    "* `Age`: Patient's age. Integer -1 to 115\n",
    "* `Gender`: Patient's gender, string M,F\n",
    "* `Alcoholism`: Binary, 1=yes\n",
    "* `Diabetes`:Binary, 1= yes\n",
    "* `Hypertension`:Binary, 1= yes\n",
    "* `Disabilities`: The number of disabilities for a patient. Integer, 1-4\n",
    "* `Scholarship`: This indicates whether the patient receives financial support from the government. Binary, 1=yes\n",
    "* `Neighbourhood`: This is the location of the medical clinic. String, 80 values\n",
    "* `SMS_receceived`:Whether they received a SMS reminder before the appointment. Binary, 1= yes\n",
    "* `AppointmentBooked`: Date that the appointment was booked\n",
    "* `AppointmentDate`: Date of the appointment\n",
    "* `DayOfWeek`: The weekday of the appointment. Integer, 0-5\n",
    "* `WaitingTime`: The number of days between booking the appointment and the appointment date. Integer, -6 to 179\n",
    "\n",
    "\n",
    "*Target variable:*\n",
    "* `No-show`: Was the patient a no-show? Binary: 1=yes,0=no\n",
    "Overall, 20% of the patients were no-shows."
   ]
  },
  {
   "cell_type": "raw",
   "metadata": {},
   "source": [
    "Now we need to deal with any values that are obviously incorrect. \n",
    "\n",
    "There is an age value of -1 so we will recode that to a missing value. While the oldest age is quite old at 115, it's certainly not impossible to have someone of that age so we will leave that value as it is.\n",
    "\n",
    "There are also some negative values for WaitingTime, so we will also recode these to missing."
   ]
  },
  {
   "cell_type": "code",
   "execution_count": 8,
   "metadata": {},
   "outputs": [
    {
     "data": {
      "text/plain": [
       "count    110522.000000\n",
       "mean         10.184253\n",
       "std          15.255115\n",
       "min           0.000000\n",
       "25%           0.000000\n",
       "50%           4.000000\n",
       "75%          15.000000\n",
       "max         179.000000\n",
       "Name: WaitingTime, dtype: float64"
      ]
     },
     "execution_count": 8,
     "metadata": {},
     "output_type": "execute_result"
    }
   ],
   "source": [
    "noShow['Age'] = np.where(noShow['Age']<0, np.nan, noShow['Age'])\n",
    "noShow['Age'].describe()\n",
    "noShow['WaitingTime'] = np.where(noShow['WaitingTime']<0, np.nan, noShow['WaitingTime'])\n",
    "noShow['WaitingTime'].describe()"
   ]
  },
  {
   "cell_type": "markdown",
   "metadata": {},
   "source": [
    "Disability has values from 0-5, indicating the number of disabilities a patient has. We will turn this into a binary column to indicate whether the patient has a disablity or not."
   ]
  },
  {
   "cell_type": "code",
   "execution_count": 9,
   "metadata": {},
   "outputs": [
    {
     "name": "stdout",
     "output_type": "stream",
     "text": [
      "Disability: [0, 1]\n",
      "Disability  Disabilities\n",
      "0           0               108286\n",
      "1           1                 2042\n",
      "            2                  183\n",
      "            3                   13\n",
      "            4                    3\n",
      "dtype: int64\n"
     ]
    }
   ],
   "source": [
    "noShow['Disability'] = np.where(noShow['Disabilities']>1, 1, noShow['Disabilities'])\n",
    "print('Disability:', sorted(noShow.Disability.unique()))\n",
    "count = noShow.groupby(['Disability', 'Disabilities']).size() \n",
    "print(count)  \n"
   ]
  },
  {
   "cell_type": "code",
   "execution_count": null,
   "metadata": {},
   "outputs": [],
   "source": [
    "Now we will look at patient history as it is possible that people who have a previous no-show are more likely to no-show again."
   ]
  },
  {
   "cell_type": "code",
   "execution_count": 10,
   "metadata": {},
   "outputs": [
    {
     "data": {
      "text/html": [
       "<div>\n",
       "<style scoped>\n",
       "    .dataframe tbody tr th:only-of-type {\n",
       "        vertical-align: middle;\n",
       "    }\n",
       "\n",
       "    .dataframe tbody tr th {\n",
       "        vertical-align: top;\n",
       "    }\n",
       "\n",
       "    .dataframe thead th {\n",
       "        text-align: right;\n",
       "    }\n",
       "</style>\n",
       "<table border=\"1\" class=\"dataframe\">\n",
       "  <thead>\n",
       "    <tr style=\"text-align: right;\">\n",
       "      <th></th>\n",
       "      <th>PreviousAppointment</th>\n",
       "    </tr>\n",
       "  </thead>\n",
       "  <tbody>\n",
       "    <tr>\n",
       "      <th>0</th>\n",
       "      <td>62299</td>\n",
       "    </tr>\n",
       "    <tr>\n",
       "      <th>1</th>\n",
       "      <td>24379</td>\n",
       "    </tr>\n",
       "    <tr>\n",
       "      <th>2</th>\n",
       "      <td>10484</td>\n",
       "    </tr>\n",
       "    <tr>\n",
       "      <th>3</th>\n",
       "      <td>4984</td>\n",
       "    </tr>\n",
       "    <tr>\n",
       "      <th>4</th>\n",
       "      <td>2617</td>\n",
       "    </tr>\n",
       "    <tr>\n",
       "      <th>5</th>\n",
       "      <td>1498</td>\n",
       "    </tr>\n",
       "    <tr>\n",
       "      <th>&gt; 5</th>\n",
       "      <td>4264</td>\n",
       "    </tr>\n",
       "  </tbody>\n",
       "</table>\n",
       "</div>"
      ],
      "text/plain": [
       "     PreviousAppointment\n",
       "0                  62299\n",
       "1                  24379\n",
       "2                  10484\n",
       "3                   4984\n",
       "4                   2617\n",
       "5                   1498\n",
       "> 5                 4264"
      ]
     },
     "execution_count": 10,
     "metadata": {},
     "output_type": "execute_result"
    }
   ],
   "source": [
    "#determine if a patient has had a previous appointment\n",
    "noShow.sort_values(by=['PatientId','AppointmentDate'], inplace=True)\n",
    "pd.options.display.max_rows=100\n",
    "noShow['PreviousAppointment'] = noShow.sort_values(by = ['PatientId','AppointmentDate']).groupby(['PatientId']).cumcount()\n",
    "#print(noShow[['PatientId','AppointmentDate', 'PreviousAppointment']].head(100)) \n",
    "\n",
    "\n",
    "a = noShow.groupby(pd.cut(noShow.PreviousAppointment, bins = [-1, 0,1,2,3,4,5, 85], include_lowest = True))[['PreviousAppointment']].count()\n",
    "b = pd.DataFrame(a)\n",
    "b.set_index(pd.Series(['0', '1', '2', '3', '4', '5', '> 5']))"
   ]
  },
  {
   "cell_type": "code",
   "execution_count": null,
   "metadata": {},
   "outputs": [],
   "source": [
    "Calculate whether the patient has a previous no-show"
   ]
  },
  {
   "cell_type": "code",
   "execution_count": 11,
   "metadata": {},
   "outputs": [
    {
     "name": "stdout",
     "output_type": "stream",
     "text": [
      "No-show  NoShow\n",
      "No       0         88208\n",
      "Yes      1         22319\n",
      "dtype: int64\n",
      "PatientHistory\n",
      "At least one previous no-show    15624\n",
      "First appointment                62299\n",
      "No previous no-shows             32604\n",
      "dtype: int64\n"
     ]
    }
   ],
   "source": [
    "noShow['NoShow']=np.where(noShow['No-show'] == \"Yes\", 1,0)\n",
    "count = noShow.groupby(['No-show', 'NoShow']).size() \n",
    "print(count)\n",
    "\n",
    "#noShow['PreviousNoShow'] = (noShow[noShow['PreviousAppointment'] > 0].sort_values(['PatientId', 'AppointmentDate']).groupby(['PatientId'])['NoShow'].cumsum())\n",
    "noShow['NumberOfPreviousNoShow'] = (noShow.sort_values(['PatientId', 'AppointmentDate']).groupby(['PatientId'])['NoShow'].cumsum())\n",
    "noShow['PreviousNoShows']=noShow['NumberOfPreviousNoShow']-noShow['NoShow']\n",
    "\n",
    "\n",
    "def history(x):\n",
    "    if x['PreviousAppointment'] == 0 : return 'First appointment'\n",
    "    elif x['PreviousAppointment'] > 0 and x['PreviousNoShows'] == 0: return 'No previous no-shows'\n",
    "    else: return 'At least one previous no-show'\n",
    "    \n",
    "\n",
    "noShow['PatientHistory'] = noShow.apply(history,axis=1)\n",
    "\n",
    "pd.options.display.max_rows=100\n",
    "pd.set_option('display.width', 1000)\n",
    "pd.set_option('display.max_columns', 500)\n",
    "noShow.sort_values(by=['PatientId','AppointmentDate'], inplace=True)\n",
    "#print(noShow[['PatientId','AppointmentDate', 'No-show', 'PreviousAppointment','PreviousNoShows','PatientHistory']].head(100)) \n",
    "\n",
    " \n",
    "count = noShow.groupby(['PatientHistory']).size() \n",
    "print(count)"
   ]
  },
  {
   "cell_type": "markdown",
   "metadata": {},
   "source": [
    "\n",
    "Now let's look at how our features relate to the probability of not turning up to the appointment."
   ]
  },
  {
   "cell_type": "code",
   "execution_count": 12,
   "metadata": {},
   "outputs": [
    {
     "name": "stdout",
     "output_type": "stream",
     "text": [
      "<class 'pandas.core.frame.DataFrame'>\n",
      "Int64Index: 110527 entries, 5751990 to 5660958\n",
      "Data columns (total 15 columns):\n",
      "PatientId         110527 non-null int64\n",
      "Gender            110527 non-null object\n",
      "Age               110526 non-null float64\n",
      "Neighbourhood     110527 non-null object\n",
      "Scholarship       110527 non-null int64\n",
      "Hypertension      110527 non-null int64\n",
      "Diabetes          110527 non-null int64\n",
      "Alcoholism        110527 non-null int64\n",
      "Disabilities      110527 non-null int64\n",
      "SMS_received      110527 non-null int64\n",
      "No-show           110527 non-null object\n",
      "WaitingTime       110522 non-null float64\n",
      "DayOfWeek         110527 non-null object\n",
      "Disability        110527 non-null int64\n",
      "PatientHistory    110527 non-null object\n",
      "dtypes: float64(2), int64(8), object(5)\n",
      "memory usage: 13.5+ MB\n"
     ]
    }
   ],
   "source": [
    "#drop columns that we no longer need\n",
    "noShow = noShow.drop(['NoShow','AppointmentDate','AppointmentBooked','PreviousNoShows','NumberOfPreviousNoShow','PreviousAppointment'], axis=1)\n",
    "noShow.info()"
   ]
  },
  {
   "cell_type": "code",
   "execution_count": 13,
   "metadata": {
    "scrolled": false
   },
   "outputs": [
    {
     "name": "stdout",
     "output_type": "stream",
     "text": [
      "<class 'pandas.core.frame.DataFrame'>\n",
      "Int64Index: 110527 entries, 5751990 to 5660958\n",
      "Data columns (total 17 columns):\n",
      "PatientId         110527 non-null int64\n",
      "Gender            110527 non-null object\n",
      "Age               110526 non-null float64\n",
      "Neighbourhood     110527 non-null object\n",
      "Scholarship       110527 non-null int64\n",
      "Hypertension      110527 non-null int64\n",
      "Diabetes          110527 non-null int64\n",
      "Alcoholism        110527 non-null int64\n",
      "Disabilities      110527 non-null int64\n",
      "SMS_received      110527 non-null int64\n",
      "No-show           110527 non-null category\n",
      "WaitingTime       110522 non-null float64\n",
      "DayOfWeek         110527 non-null object\n",
      "Disability        110527 non-null int64\n",
      "PatientHistory    110527 non-null object\n",
      "Attended          110527 non-null uint8\n",
      "NoShow            110527 non-null uint8\n",
      "dtypes: category(1), float64(2), int64(8), object(4), uint8(2)\n",
      "memory usage: 13.0+ MB\n"
     ]
    },
    {
     "data": {
      "image/png": "[encoded data removed]",
      "text/plain": [
       "<Figure size 432x288 with 1 Axes>"
      ]
     },
     "metadata": {},
     "output_type": "display_data"
    },
    {
     "data": {
      "image/png": "[encoded data removed]",
      "text/plain": [
       "<Figure size 432x288 with 1 Axes>"
      ]
     },
     "metadata": {},
     "output_type": "display_data"
    },
    {
     "data": {
      "image/png": "[encoded data removed]",
      "text/plain": [
       "<Figure size 432x288 with 1 Axes>"
      ]
     },
     "metadata": {},
     "output_type": "display_data"
    },
    {
     "data": {
      "image/png": "[encoded data removed]",
      "text/plain": [
       "<Figure size 432x288 with 1 Axes>"
      ]
     },
     "metadata": {},
     "output_type": "display_data"
    },
    {
     "data": {
      "image/png": "[encoded data removed]",
      "text/plain": [
       "<Figure size 432x288 with 1 Axes>"
      ]
     },
     "metadata": {},
     "output_type": "display_data"
    },
    {
     "data": {
      "image/png": "[encoded data removed]",
      "text/plain": [
       "<Figure size 432x288 with 1 Axes>"
      ]
     },
     "metadata": {},
     "output_type": "display_data"
    },
    {
     "data": {
      "image/png": "[encoded data removed]",
      "text/plain": [
       "<Figure size 432x288 with 1 Axes>"
      ]
     },
     "metadata": {},
     "output_type": "display_data"
    },
    {
     "data": {
      "image/png": "[encoded data removed]",
      "text/plain": [
       "<Figure size 432x288 with 1 Axes>"
      ]
     },
     "metadata": {},
     "output_type": "display_data"
    },
    {
     "data": {
      "image/png": "[encoded data removed]",
      "text/plain": [
       "<Figure size 432x288 with 1 Axes>"
      ]
     },
     "metadata": {},
     "output_type": "display_data"
    },
    {
     "data": {
      "image/png": "[encoded data removed]",
      "text/plain": [
       "<Figure size 432x288 with 1 Axes>"
      ]
     },
     "metadata": {},
     "output_type": "display_data"
    },
    {
     "data": {
      "image/png": "[encoded data removed]",
      "text/plain": [
       "<Figure size 432x288 with 1 Axes>"
      ]
     },
     "metadata": {},
     "output_type": "display_data"
    }
   ],
   "source": [
    "#create dummy variables for no-show so that we can calculate the probability of being a no-show\n",
    "\n",
    "\n",
    "noShow['No-show'] = noShow['No-show'].astype('category')\n",
    "noShow = noShow.join(pd.get_dummies(noShow['No-show']))\n",
    "\n",
    "\n",
    "noShow.rename(columns = {'No': 'Attended',\n",
    "                         'Yes': 'NoShow'}, inplace = True)\n",
    "noShow.info()\n",
    "\n",
    "df2 = noShow.groupby('Age').sum()\n",
    "df2['NoShowProp'] = df2['NoShow'] / (df2['Attended'] + df2['NoShow'])\n",
    "df2[['NoShowProp']].plot()\n",
    "\n",
    "df2 = noShow.groupby('WaitingTime').sum()\n",
    "df2['NoShowProp'] = df2['NoShow'] / (df2['Attended'] + df2['NoShow'])\n",
    "df2[['NoShowProp']].plot()\n",
    "\n",
    "def plotNoShow(var):\n",
    " df2 = noShow.groupby([var])['Attended','NoShow'].sum()\n",
    " df2['NoShowProp'] = df2['NoShow'] / (df2['Attended'] + df2['NoShow'])\n",
    " df2[['NoShowProp']].plot(kind='bar',stacked=True,legend=False)\n",
    " df2\n",
    "\n",
    "    \n",
    "plotNoShow('Gender')    \n",
    "plotNoShow('Disability')\n",
    "plotNoShow('Alcoholism')\n",
    "plotNoShow('Diabetes')\n",
    "plotNoShow('Scholarship')\n",
    "plotNoShow('Hypertension')\n",
    "plotNoShow('SMS_received')\n",
    "plotNoShow('DayOfWeek')\n",
    "plotNoShow('PatientHistory')\n"
   ]
  },
  {
   "cell_type": "code",
   "execution_count": null,
   "metadata": {},
   "outputs": [],
   "source": [
    "Now have a look at interactions\n"
   ]
  },
  {
   "cell_type": "code",
   "execution_count": null,
   "metadata": {},
   "outputs": [],
   "source": [
    "def plotInt(var,var2):\n",
    " df2 = noShow.groupby([var,var2])['Attended','NoShow'].sum()\n",
    " df2['NoShowProp'] = df2['NoShow'] / (df2['Attended'] + df2['NoShow'])\n",
    " print(df2)\n",
    " #df2[['NoShowProp']].plot(kind='bar',stacked=True,legend=False)\n",
    " df2\n",
    "\n",
    "plotInt('Diabetes','Alcoholism')\n",
    "plotInt('Diabetes','Disability')\n",
    "plotInt('Diabetes','Gender')\n",
    "plotInt('Diabetes','Hypertension')\n",
    "plotInt('Diabetes','Scholarship')\n",
    "plotInt('Diabetes','SMS_received')\n",
    "plotInt('Diabetes','DayOfWeek')\n",
    "plotInt('Diabetes','PatientHistory')\n",
    "\n",
    "\n",
    "plotInt('Alcoholism','Disability')\n",
    "plotInt('Alcoholism','Gender')\n",
    "plotInt('Alcoholism','Hypertension')\n",
    "plotInt('Alcoholism','Scholarship')\n",
    "plotInt('Alcoholism','SMS_received')\n",
    "plotInt('Alcoholism','DayOfWeek')\n",
    "plotInt('Alcoholism','PatientHistory')\n",
    "\n",
    "\n",
    "plotInt('Disability','Gender')\n",
    "plotInt('Disability','Hypertension')\n",
    "plotInt('Disability','Scholarship')\n",
    "plotInt('Disability','SMS_received')\n",
    "plotInt('Disability','DayOfWeek')\n",
    "plotInt('Disability','PatientHistory')\n",
    "\n",
    "\n",
    "\n"
   ]
  },
  {
   "cell_type": "code",
   "execution_count": null,
   "metadata": {},
   "outputs": [],
   "source": [
    "#check for correlation between age and waiting time\n",
    "plt.scatter(noShow.Age, noShow.WaitingTime, c=noShow.NoShow)\n",
    "plt.xlabel(\"Age\", fontsize=12)\n",
    "plt.ylabel(\"Waiting Time\", fontsize=12)\n",
    "plt.legend()"
   ]
  },
  {
   "cell_type": "markdown",
   "metadata": {},
   "source": [
    "There seems to be some evidence of interaction between the variables, so we will keep all columns in the model. For the first model we will drop neighbourhood as there are more than 80 different values and a lot of sparsity. Would be interesting to add back in later to see how XGBoost handles it."
   ]
  },
  {
   "cell_type": "code",
   "execution_count": 14,
   "metadata": {},
   "outputs": [
    {
     "name": "stdout",
     "output_type": "stream",
     "text": [
      "<class 'pandas.core.frame.DataFrame'>\n",
      "Int64Index: 110527 entries, 5751990 to 5660958\n",
      "Data columns (total 12 columns):\n",
      "No-show           110527 non-null category\n",
      "Gender            110527 non-null object\n",
      "Age               110526 non-null float64\n",
      "Scholarship       110527 non-null int64\n",
      "Hypertension      110527 non-null int64\n",
      "Diabetes          110527 non-null int64\n",
      "Alcoholism        110527 non-null int64\n",
      "Disability        110527 non-null int64\n",
      "SMS_received      110527 non-null int64\n",
      "WaitingTime       110522 non-null float64\n",
      "DayOfWeek         110527 non-null object\n",
      "PatientHistory    110527 non-null object\n",
      "dtypes: category(1), float64(2), int64(6), object(3)\n",
      "memory usage: 10.2+ MB\n"
     ]
    },
    {
     "data": {
      "text/html": [
       "<div>\n",
       "<style scoped>\n",
       "    .dataframe tbody tr th:only-of-type {\n",
       "        vertical-align: middle;\n",
       "    }\n",
       "\n",
       "    .dataframe tbody tr th {\n",
       "        vertical-align: top;\n",
       "    }\n",
       "\n",
       "    .dataframe thead th {\n",
       "        text-align: right;\n",
       "    }\n",
       "</style>\n",
       "<table border=\"1\" class=\"dataframe\">\n",
       "  <thead>\n",
       "    <tr style=\"text-align: right;\">\n",
       "      <th></th>\n",
       "      <th>Age</th>\n",
       "      <th>Scholarship</th>\n",
       "      <th>Hypertension</th>\n",
       "      <th>Diabetes</th>\n",
       "      <th>Alcoholism</th>\n",
       "      <th>Disability</th>\n",
       "      <th>SMS_received</th>\n",
       "      <th>WaitingTime</th>\n",
       "      <th>No-show_No</th>\n",
       "      <th>No-show_Yes</th>\n",
       "      <th>Gender_F</th>\n",
       "      <th>Gender_M</th>\n",
       "      <th>DayOfWeek_Friday</th>\n",
       "      <th>DayOfWeek_Monday</th>\n",
       "      <th>DayOfWeek_Saturday</th>\n",
       "      <th>DayOfWeek_Thursday</th>\n",
       "      <th>DayOfWeek_Tuesday</th>\n",
       "      <th>DayOfWeek_Wednesday</th>\n",
       "      <th>PatientHistory_At least one previous no-show</th>\n",
       "      <th>PatientHistory_First appointment</th>\n",
       "      <th>PatientHistory_No previous no-shows</th>\n",
       "    </tr>\n",
       "    <tr>\n",
       "      <th>AppointmentID</th>\n",
       "      <th></th>\n",
       "      <th></th>\n",
       "      <th></th>\n",
       "      <th></th>\n",
       "      <th></th>\n",
       "      <th></th>\n",
       "      <th></th>\n",
       "      <th></th>\n",
       "      <th></th>\n",
       "      <th></th>\n",
       "      <th></th>\n",
       "      <th></th>\n",
       "      <th></th>\n",
       "      <th></th>\n",
       "      <th></th>\n",
       "      <th></th>\n",
       "      <th></th>\n",
       "      <th></th>\n",
       "      <th></th>\n",
       "      <th></th>\n",
       "      <th></th>\n",
       "    </tr>\n",
       "  </thead>\n",
       "  <tbody>\n",
       "    <tr>\n",
       "      <th>5751990</th>\n",
       "      <td>44.0</td>\n",
       "      <td>0</td>\n",
       "      <td>0</td>\n",
       "      <td>0</td>\n",
       "      <td>0</td>\n",
       "      <td>0</td>\n",
       "      <td>0</td>\n",
       "      <td>3.0</td>\n",
       "      <td>1</td>\n",
       "      <td>0</td>\n",
       "      <td>1</td>\n",
       "      <td>0</td>\n",
       "      <td>1</td>\n",
       "      <td>0</td>\n",
       "      <td>0</td>\n",
       "      <td>0</td>\n",
       "      <td>0</td>\n",
       "      <td>0</td>\n",
       "      <td>0</td>\n",
       "      <td>1</td>\n",
       "      <td>0</td>\n",
       "    </tr>\n",
       "    <tr>\n",
       "      <th>5760144</th>\n",
       "      <td>39.0</td>\n",
       "      <td>0</td>\n",
       "      <td>0</td>\n",
       "      <td>1</td>\n",
       "      <td>0</td>\n",
       "      <td>0</td>\n",
       "      <td>0</td>\n",
       "      <td>0.0</td>\n",
       "      <td>1</td>\n",
       "      <td>0</td>\n",
       "      <td>0</td>\n",
       "      <td>1</td>\n",
       "      <td>0</td>\n",
       "      <td>0</td>\n",
       "      <td>0</td>\n",
       "      <td>0</td>\n",
       "      <td>0</td>\n",
       "      <td>1</td>\n",
       "      <td>0</td>\n",
       "      <td>1</td>\n",
       "      <td>0</td>\n",
       "    </tr>\n",
       "    <tr>\n",
       "      <th>5712759</th>\n",
       "      <td>33.0</td>\n",
       "      <td>0</td>\n",
       "      <td>0</td>\n",
       "      <td>0</td>\n",
       "      <td>0</td>\n",
       "      <td>0</td>\n",
       "      <td>0</td>\n",
       "      <td>0.0</td>\n",
       "      <td>1</td>\n",
       "      <td>0</td>\n",
       "      <td>1</td>\n",
       "      <td>0</td>\n",
       "      <td>0</td>\n",
       "      <td>0</td>\n",
       "      <td>0</td>\n",
       "      <td>0</td>\n",
       "      <td>0</td>\n",
       "      <td>1</td>\n",
       "      <td>0</td>\n",
       "      <td>1</td>\n",
       "      <td>0</td>\n",
       "    </tr>\n",
       "    <tr>\n",
       "      <th>5637648</th>\n",
       "      <td>12.0</td>\n",
       "      <td>0</td>\n",
       "      <td>0</td>\n",
       "      <td>0</td>\n",
       "      <td>0</td>\n",
       "      <td>0</td>\n",
       "      <td>0</td>\n",
       "      <td>3.0</td>\n",
       "      <td>1</td>\n",
       "      <td>0</td>\n",
       "      <td>0</td>\n",
       "      <td>1</td>\n",
       "      <td>0</td>\n",
       "      <td>1</td>\n",
       "      <td>0</td>\n",
       "      <td>0</td>\n",
       "      <td>0</td>\n",
       "      <td>0</td>\n",
       "      <td>0</td>\n",
       "      <td>1</td>\n",
       "      <td>0</td>\n",
       "    </tr>\n",
       "    <tr>\n",
       "      <th>5637728</th>\n",
       "      <td>14.0</td>\n",
       "      <td>0</td>\n",
       "      <td>0</td>\n",
       "      <td>0</td>\n",
       "      <td>0</td>\n",
       "      <td>0</td>\n",
       "      <td>1</td>\n",
       "      <td>7.0</td>\n",
       "      <td>1</td>\n",
       "      <td>0</td>\n",
       "      <td>1</td>\n",
       "      <td>0</td>\n",
       "      <td>1</td>\n",
       "      <td>0</td>\n",
       "      <td>0</td>\n",
       "      <td>0</td>\n",
       "      <td>0</td>\n",
       "      <td>0</td>\n",
       "      <td>0</td>\n",
       "      <td>1</td>\n",
       "      <td>0</td>\n",
       "    </tr>\n",
       "  </tbody>\n",
       "</table>\n",
       "</div>"
      ],
      "text/plain": [
       "                Age  Scholarship  Hypertension  Diabetes  Alcoholism  Disability  SMS_received  WaitingTime  No-show_No  No-show_Yes  Gender_F  Gender_M  DayOfWeek_Friday  DayOfWeek_Monday  DayOfWeek_Saturday  DayOfWeek_Thursday  DayOfWeek_Tuesday  DayOfWeek_Wednesday  PatientHistory_At least one previous no-show  PatientHistory_First appointment  PatientHistory_No previous no-shows\n",
       "AppointmentID                                                                                                                                                                                                                                                                                                                                                                                    \n",
       "5751990        44.0            0             0         0           0           0             0          3.0           1            0         1         0                 1                 0                   0                   0                  0                    0                                             0                                 1                                    0\n",
       "5760144        39.0            0             0         1           0           0             0          0.0           1            0         0         1                 0                 0                   0                   0                  0                    1                                             0                                 1                                    0\n",
       "5712759        33.0            0             0         0           0           0             0          0.0           1            0         1         0                 0                 0                   0                   0                  0                    1                                             0                                 1                                    0\n",
       "5637648        12.0            0             0         0           0           0             0          3.0           1            0         0         1                 0                 1                   0                   0                  0                    0                                             0                                 1                                    0\n",
       "5637728        14.0            0             0         0           0           0             1          7.0           1            0         1         0                 1                 0                   0                   0                  0                    0                                             0                                 1                                    0"
      ]
     },
     "execution_count": 14,
     "metadata": {},
     "output_type": "execute_result"
    }
   ],
   "source": [
    "#drop PatientID, AppointmentID and Neightbourhood - check whether we can drop and index column\n",
    "#noShow = noShow.drop(['PatientID','Neighbourhood','AppointmentID'], axis=1)\n",
    "\n",
    "noShowFinal = noShow[['No-show', 'Gender', 'Age','Scholarship','Hypertension','Diabetes','Alcoholism','Disability','SMS_received','WaitingTime','DayOfWeek','PatientHistory']].copy()\n",
    "noShowFinal.info()\n",
    "#create indicator columns for categorical columns, as requried by XGBoost\n",
    "model_data = pd.get_dummies(noShowFinal) \n",
    "model_data.head()\n"
   ]
  },
  {
   "cell_type": "markdown",
   "metadata": {},
   "source": [
    "Split the dataset into training data (70%), validation data (20%) and prediction data (10%)"
   ]
  },
  {
   "cell_type": "code",
   "execution_count": 15,
   "metadata": {},
   "outputs": [],
   "source": [
    "train_data, validation_data, test_data = np.split(model_data.sample(frac=1, random_state=8147), [int(0.7 * len(model_data)), int(0.9 * len(model_data))])   # Randomly sort the data then split out first 70%, second 20%, and last 10%\n"
   ]
  },
  {
   "cell_type": "code",
   "execution_count": 16,
   "metadata": {},
   "outputs": [
    {
     "name": "stdout",
     "output_type": "stream",
     "text": [
      "(77368, 21)\n",
      "(22106, 21)\n",
      "(11053, 21)\n",
      "<class 'pandas.core.frame.DataFrame'>\n",
      "Int64Index: 77368 entries, 5664524 to 5716188\n",
      "Data columns (total 21 columns):\n",
      "Age                                             77367 non-null float64\n",
      "Scholarship                                     77368 non-null int64\n",
      "Hypertension                                    77368 non-null int64\n",
      "Diabetes                                        77368 non-null int64\n",
      "Alcoholism                                      77368 non-null int64\n",
      "Disability                                      77368 non-null int64\n",
      "SMS_received                                    77368 non-null int64\n",
      "WaitingTime                                     77366 non-null float64\n",
      "No-show_No                                      77368 non-null uint8\n",
      "No-show_Yes                                     77368 non-null uint8\n",
      "Gender_F                                        77368 non-null uint8\n",
      "Gender_M                                        77368 non-null uint8\n",
      "DayOfWeek_Friday                                77368 non-null uint8\n",
      "DayOfWeek_Monday                                77368 non-null uint8\n",
      "DayOfWeek_Saturday                              77368 non-null uint8\n",
      "DayOfWeek_Thursday                              77368 non-null uint8\n",
      "DayOfWeek_Tuesday                               77368 non-null uint8\n",
      "DayOfWeek_Wednesday                             77368 non-null uint8\n",
      "PatientHistory_At least one previous no-show    77368 non-null uint8\n",
      "PatientHistory_First appointment                77368 non-null uint8\n",
      "PatientHistory_No previous no-shows             77368 non-null uint8\n",
      "dtypes: float64(2), int64(6), uint8(13)\n",
      "memory usage: 6.3 MB\n"
     ]
    }
   ],
   "source": [
    "print(train_data.shape)\n",
    "print(validation_data.shape)\n",
    "print(test_data.shape)\n",
    "train_data.info()"
   ]
  },
  {
   "cell_type": "markdown",
   "metadata": {},
   "source": [
    "Amazon SageMaker's XGBoost container expects data in the libSVM or CSV data format.  For this example, we'll stick to CSV.  Note that the first column must be the target variable and the CSV should not include headers.  Also, notice that although repetitive it's easiest to do this after the train|validation|test split rather than before.  This avoids any misalignment issues due to random reordering."
   ]
  },
  {
   "cell_type": "code",
   "execution_count": 17,
   "metadata": {},
   "outputs": [],
   "source": [
    "pd.concat([train_data['No-show_Yes'], train_data.drop(['No-show_No', 'No-show_Yes'], axis=1)], axis=1).to_csv('train.csv', index=False, header=False)\n",
    "pd.concat([validation_data['No-show_Yes'], validation_data.drop(['No-show_No', 'No-show_Yes'], axis=1)], axis=1).to_csv('validation.csv', index=False, header=False)"
   ]
  },
  {
   "cell_type": "markdown",
   "metadata": {},
   "source": [
    "Now we'll copy the file to S3 for Amazon SageMaker's managed training to pickup."
   ]
  },
  {
   "cell_type": "code",
   "execution_count": 18,
   "metadata": {},
   "outputs": [],
   "source": [
    "boto3.Session().resource('s3').Bucket(bucket).Object(os.path.join(prefix, 'train/train.csv')).upload_file('train.csv')\n",
    "boto3.Session().resource('s3').Bucket(bucket).Object(os.path.join(prefix, 'validation/validation.csv')).upload_file('validation.csv')"
   ]
  },
  {
   "cell_type": "markdown",
   "metadata": {},
   "source": [
    "---\n",
    "\n",
    "## Training\n",
    "Now we know that most of our features have skewed distributions, some are highly correlated with one another, and some appear to have non-linear relationships with our target variable.  Also, for targeting future prospects, good predictive accuracy is preferred to being able to explain why that prospect was targeted.  Taken together, these aspects make gradient boosted trees a good candidate algorithm.\n",
    "\n",
    "There are several intricacies to understanding the algorithm, but at a high level, gradient boosted trees works by combining predictions from many simple models, each of which tries to address the weaknesses of the previous models.  By doing this the collection of simple models can actually outperform large, complex models.  Other Amazon SageMaker notebooks elaborate on gradient boosting trees further and how they differ from similar algorithms.\n",
    "\n",
    "`xgboost` is an extremely popular, open-source package for gradient boosted trees.  It is computationally powerful, fully featured, and has been successfully used in many machine learning competitions.  Let's start with a simple `xgboost` model, trained using Amazon SageMaker's managed, distributed training framework.\n",
    "\n",
    "First we'll need to specify the ECR container location for Amazon SageMaker's implementation of XGBoost."
   ]
  },
  {
   "cell_type": "code",
   "execution_count": 19,
   "metadata": {},
   "outputs": [],
   "source": [
    "from sagemaker.amazon.amazon_estimator import get_image_uri\n",
    "container = get_image_uri(boto3.Session().region_name, 'xgboost', repo_version='0.90-1')"
   ]
  },
  {
   "cell_type": "markdown",
   "metadata": {},
   "source": [
    "Then, because we're training with the CSV file format, we'll create `s3_input`s that our training function can use as a pointer to the files in S3, which also specify that the content type is CSV."
   ]
  },
  {
   "cell_type": "code",
   "execution_count": 20,
   "metadata": {},
   "outputs": [],
   "source": [
    "s3_input_train = sagemaker.s3_input(s3_data='s3://{}/{}/train'.format(bucket, prefix), content_type='csv')\n",
    "s3_input_validation = sagemaker.s3_input(s3_data='s3://{}/{}/validation/'.format(bucket, prefix), content_type='csv')"
   ]
  },
  {
   "cell_type": "markdown",
   "metadata": {},
   "source": [
    "First we'll need to specify training parameters to the estimator.  This includes:\n",
    "1. The `xgboost` algorithm container\n",
    "1. The IAM role to use\n",
    "1. Training instance type and count\n",
    "1. S3 location for output data\n",
    "1. Algorithm hyperparameters\n",
    "\n",
    "And then a `.fit()` function which specifies:\n",
    "1. S3 location for output data.  In this case we have both a training and validation set which are passed in."
   ]
  },
  {
   "cell_type": "code",
   "execution_count": 22,
   "metadata": {},
   "outputs": [
    {
     "name": "stdout",
     "output_type": "stream",
     "text": [
      "2019-11-12 02:12:40 Starting - Starting the training job...\n",
      "2019-11-12 02:12:45 Starting - Launching requested ML instances......\n",
      "2019-11-12 02:13:47 Starting - Preparing the instances for training......\n",
      "2019-11-12 02:15:06 Downloading - Downloading input data\n",
      "2019-11-12 02:15:06 Training - Downloading the training image...\n",
      "2019-11-12 02:15:28 Training - Training image download completed. Training in progress.\u001b[31mINFO:sagemaker-containers:Imported framework sagemaker_xgboost_container.training\u001b[0m\n",
      "\u001b[31mINFO:sagemaker-containers:Failed to parse hyperparameter eval_metric value accuracy to Json.\u001b[0m\n",
      "\u001b[31mReturning the value itself\u001b[0m\n",
      "\u001b[31mINFO:sagemaker-containers:Failed to parse hyperparameter objective value binary:logistic to Json.\u001b[0m\n",
      "\u001b[31mReturning the value itself\u001b[0m\n",
      "\u001b[31mINFO:sagemaker-containers:No GPUs detected (normal if no gpus installed)\u001b[0m\n",
      "\u001b[31mINFO:sagemaker_xgboost_container.training:Running XGBoost Sagemaker in algorithm mode\u001b[0m\n",
      "\u001b[31mINFO:root:Determined delimiter of CSV input is ','\u001b[0m\n",
      "\u001b[31mINFO:root:Determined delimiter of CSV input is ','\u001b[0m\n",
      "\u001b[31mINFO:root:Determined delimiter of CSV input is ','\u001b[0m\n",
      "\u001b[31m[02:15:30] 77368x19 matrix with 1469992 entries loaded from /opt/ml/input/data/train?format=csv&label_column=0&delimiter=,\u001b[0m\n",
      "\u001b[31mINFO:root:Determined delimiter of CSV input is ','\u001b[0m\n",
      "\u001b[31m[02:15:30] 22106x19 matrix with 420014 entries loaded from /opt/ml/input/data/validation?format=csv&label_column=0&delimiter=,\u001b[0m\n",
      "\u001b[31mINFO:root:Single node training.\u001b[0m\n",
      "\u001b[31mINFO:root:Train matrix has 77368 rows\u001b[0m\n",
      "\u001b[31mINFO:root:Validation matrix has 22106 rows\u001b[0m\n",
      "\u001b[31m[0]#011train-error:0.198622#011validation-error:0.194879#011train-accuracy:0.801378#011validation-accuracy:0.805121\u001b[0m\n",
      "\u001b[31m[1]#011train-error:0.198312#011validation-error:0.194879#011train-accuracy:0.801688#011validation-accuracy:0.805121\u001b[0m\n",
      "\u001b[31m[2]#011train-error:0.198377#011validation-error:0.194472#011train-accuracy:0.801623#011validation-accuracy:0.805528\u001b[0m\n",
      "\u001b[31m[3]#011train-error:0.198428#011validation-error:0.194879#011train-accuracy:0.801572#011validation-accuracy:0.805121\u001b[0m\n",
      "\u001b[31m[4]#011train-error:0.198183#011validation-error:0.195105#011train-accuracy:0.801817#011validation-accuracy:0.804895\u001b[0m\n",
      "\u001b[31m[5]#011train-error:0.198234#011validation-error:0.195422#011train-accuracy:0.801766#011validation-accuracy:0.804578\u001b[0m\n",
      "\u001b[31m[6]#011train-error:0.197795#011validation-error:0.194834#011train-accuracy:0.802205#011validation-accuracy:0.805166\u001b[0m\n",
      "\u001b[31m[7]#011train-error:0.197549#011validation-error:0.194608#011train-accuracy:0.802451#011validation-accuracy:0.805392\u001b[0m\n",
      "\u001b[31m[8]#011train-error:0.197459#011validation-error:0.194608#011train-accuracy:0.802541#011validation-accuracy:0.805392\u001b[0m\n",
      "\u001b[31m[9]#011train-error:0.197265#011validation-error:0.193974#011train-accuracy:0.802735#011validation-accuracy:0.806026\u001b[0m\n",
      "\u001b[31m[10]#011train-error:0.196942#011validation-error:0.193884#011train-accuracy:0.803058#011validation-accuracy:0.806116\u001b[0m\n",
      "\u001b[31m[11]#011train-error:0.196761#011validation-error:0.193794#011train-accuracy:0.803239#011validation-accuracy:0.806206\u001b[0m\n",
      "\u001b[31m[12]#011train-error:0.196851#011validation-error:0.194336#011train-accuracy:0.803149#011validation-accuracy:0.805664\u001b[0m\n",
      "\u001b[31m[13]#011train-error:0.196619#011validation-error:0.194698#011train-accuracy:0.803381#011validation-accuracy:0.805302\u001b[0m\n",
      "\u001b[31m[14]#011train-error:0.196593#011validation-error:0.194608#011train-accuracy:0.803407#011validation-accuracy:0.805392\u001b[0m\n",
      "\u001b[31m[15]#011train-error:0.19636#011validation-error:0.194472#011train-accuracy:0.80364#011validation-accuracy:0.805528\u001b[0m\n",
      "\u001b[31m[16]#011train-error:0.196386#011validation-error:0.194698#011train-accuracy:0.803614#011validation-accuracy:0.805302\u001b[0m\n",
      "\u001b[31m[17]#011train-error:0.196063#011validation-error:0.194653#011train-accuracy:0.803937#011validation-accuracy:0.805347\u001b[0m\n",
      "\u001b[31m[18]#011train-error:0.196037#011validation-error:0.194789#011train-accuracy:0.803963#011validation-accuracy:0.805211\u001b[0m\n",
      "\u001b[31m[19]#011train-error:0.195908#011validation-error:0.195151#011train-accuracy:0.804092#011validation-accuracy:0.804849\u001b[0m\n",
      "\u001b[31m[20]#011train-error:0.195934#011validation-error:0.194924#011train-accuracy:0.804066#011validation-accuracy:0.805076\u001b[0m\n",
      "\u001b[31m[21]#011train-error:0.195792#011validation-error:0.19506#011train-accuracy:0.804208#011validation-accuracy:0.80494\u001b[0m\n",
      "\u001b[31m[22]#011train-error:0.195688#011validation-error:0.19506#011train-accuracy:0.804312#011validation-accuracy:0.80494\u001b[0m\n",
      "\u001b[31m[23]#011train-error:0.195688#011validation-error:0.195332#011train-accuracy:0.804312#011validation-accuracy:0.804668\u001b[0m\n",
      "\u001b[31m[24]#011train-error:0.19552#011validation-error:0.195377#011train-accuracy:0.80448#011validation-accuracy:0.804623\u001b[0m\n",
      "\u001b[31m[25]#011train-error:0.194783#011validation-error:0.195558#011train-accuracy:0.805217#011validation-accuracy:0.804442\u001b[0m\n",
      "\u001b[31m[26]#011train-error:0.194473#011validation-error:0.195422#011train-accuracy:0.805527#011validation-accuracy:0.804578\u001b[0m\n",
      "\u001b[31m[27]#011train-error:0.194615#011validation-error:0.195105#011train-accuracy:0.805385#011validation-accuracy:0.804895\u001b[0m\n",
      "\u001b[31m[28]#011train-error:0.194615#011validation-error:0.195015#011train-accuracy:0.805385#011validation-accuracy:0.804985\u001b[0m\n",
      "\u001b[31m[29]#011train-error:0.194434#011validation-error:0.194924#011train-accuracy:0.805566#011validation-accuracy:0.805076\u001b[0m\n",
      "\u001b[31m[30]#011train-error:0.194564#011validation-error:0.195015#011train-accuracy:0.805436#011validation-accuracy:0.804985\u001b[0m\n",
      "\u001b[31m[31]#011train-error:0.194447#011validation-error:0.195105#011train-accuracy:0.805553#011validation-accuracy:0.804895\u001b[0m\n",
      "\u001b[31m[32]#011train-error:0.19446#011validation-error:0.195151#011train-accuracy:0.80554#011validation-accuracy:0.804849\u001b[0m\n",
      "\u001b[31m[33]#011train-error:0.193969#011validation-error:0.195286#011train-accuracy:0.806031#011validation-accuracy:0.804714\u001b[0m\n",
      "\u001b[31m[34]#011train-error:0.193904#011validation-error:0.19506#011train-accuracy:0.806096#011validation-accuracy:0.80494\u001b[0m\n",
      "\u001b[31m[35]#011train-error:0.193969#011validation-error:0.195015#011train-accuracy:0.806031#011validation-accuracy:0.804985\u001b[0m\n",
      "\u001b[31m[36]#011train-error:0.19384#011validation-error:0.194834#011train-accuracy:0.80616#011validation-accuracy:0.805166\u001b[0m\n",
      "\u001b[31m[37]#011train-error:0.193698#011validation-error:0.194924#011train-accuracy:0.806302#011validation-accuracy:0.805076\u001b[0m\n",
      "\u001b[31m[38]#011train-error:0.193749#011validation-error:0.194698#011train-accuracy:0.806251#011validation-accuracy:0.805302\u001b[0m\n",
      "\u001b[31m[39]#011train-error:0.193698#011validation-error:0.195015#011train-accuracy:0.806302#011validation-accuracy:0.804985\u001b[0m\n",
      "\u001b[31m[40]#011train-error:0.193879#011validation-error:0.195377#011train-accuracy:0.806121#011validation-accuracy:0.804623\u001b[0m\n",
      "\u001b[31m[41]#011train-error:0.193879#011validation-error:0.195332#011train-accuracy:0.806121#011validation-accuracy:0.804668\u001b[0m\n",
      "\u001b[31m[42]#011train-error:0.193995#011validation-error:0.195332#011train-accuracy:0.806005#011validation-accuracy:0.804668\u001b[0m\n",
      "\u001b[31m[43]#011train-error:0.193956#011validation-error:0.195693#011train-accuracy:0.806044#011validation-accuracy:0.804307\u001b[0m\n",
      "\u001b[31m[44]#011train-error:0.193892#011validation-error:0.195784#011train-accuracy:0.806108#011validation-accuracy:0.804216\u001b[0m\n",
      "\u001b[31m[45]#011train-error:0.193659#011validation-error:0.196101#011train-accuracy:0.806341#011validation-accuracy:0.803899\u001b[0m\n",
      "\u001b[31m[46]#011train-error:0.193568#011validation-error:0.195513#011train-accuracy:0.806432#011validation-accuracy:0.804487\u001b[0m\n",
      "\u001b[31m[47]#011train-error:0.193762#011validation-error:0.195558#011train-accuracy:0.806238#011validation-accuracy:0.804442\u001b[0m\n",
      "\u001b[31m[48]#011train-error:0.193387#011validation-error:0.195693#011train-accuracy:0.806613#011validation-accuracy:0.804307\u001b[0m\n",
      "\u001b[31m[49]#011train-error:0.193245#011validation-error:0.196191#011train-accuracy:0.806755#011validation-accuracy:0.803809\u001b[0m\n",
      "\u001b[31m[50]#011train-error:0.193323#011validation-error:0.195965#011train-accuracy:0.806677#011validation-accuracy:0.804035\u001b[0m\n",
      "\u001b[31m[51]#011train-error:0.193129#011validation-error:0.195874#011train-accuracy:0.806871#011validation-accuracy:0.804126\u001b[0m\n",
      "\u001b[31m[52]#011train-error:0.193206#011validation-error:0.195784#011train-accuracy:0.806794#011validation-accuracy:0.804216\u001b[0m\n",
      "\u001b[31m[53]#011train-error:0.192987#011validation-error:0.196236#011train-accuracy:0.807013#011validation-accuracy:0.803764\u001b[0m\n",
      "\u001b[31m[54]#011train-error:0.192586#011validation-error:0.196146#011train-accuracy:0.807414#011validation-accuracy:0.803854\u001b[0m\n",
      "\u001b[31m[55]#011train-error:0.19247#011validation-error:0.19601#011train-accuracy:0.80753#011validation-accuracy:0.80399\u001b[0m\n",
      "\u001b[31m[56]#011train-error:0.192172#011validation-error:0.195693#011train-accuracy:0.807828#011validation-accuracy:0.804307\u001b[0m\n",
      "\u001b[31m[57]#011train-error:0.192353#011validation-error:0.195241#011train-accuracy:0.807647#011validation-accuracy:0.804759\u001b[0m\n",
      "\u001b[31m[58]#011train-error:0.192341#011validation-error:0.195241#011train-accuracy:0.807659#011validation-accuracy:0.804759\u001b[0m\n",
      "\u001b[31m[59]#011train-error:0.192017#011validation-error:0.195015#011train-accuracy:0.807983#011validation-accuracy:0.804985\u001b[0m\n",
      "\u001b[31m[60]#011train-error:0.191953#011validation-error:0.195241#011train-accuracy:0.808047#011validation-accuracy:0.804759\u001b[0m\n",
      "\u001b[31m[61]#011train-error:0.191927#011validation-error:0.195151#011train-accuracy:0.808073#011validation-accuracy:0.804849\u001b[0m\n",
      "\u001b[31m[62]#011train-error:0.191823#011validation-error:0.19506#011train-accuracy:0.808177#011validation-accuracy:0.80494\u001b[0m\n",
      "\u001b[31m[63]#011train-error:0.191733#011validation-error:0.195422#011train-accuracy:0.808267#011validation-accuracy:0.804578\u001b[0m\n",
      "\u001b[31m[64]#011train-error:0.191707#011validation-error:0.195422#011train-accuracy:0.808293#011validation-accuracy:0.804578\u001b[0m\n",
      "\u001b[31m[65]#011train-error:0.191668#011validation-error:0.195286#011train-accuracy:0.808332#011validation-accuracy:0.804714\u001b[0m\n"
     ]
    },
    {
     "name": "stdout",
     "output_type": "stream",
     "text": [
      "\u001b[31m[66]#011train-error:0.19172#011validation-error:0.19497#011train-accuracy:0.80828#011validation-accuracy:0.80503\u001b[0m\n",
      "\u001b[31m[67]#011train-error:0.19163#011validation-error:0.195422#011train-accuracy:0.80837#011validation-accuracy:0.804578\u001b[0m\n",
      "\u001b[31m[68]#011train-error:0.191475#011validation-error:0.195603#011train-accuracy:0.808525#011validation-accuracy:0.804397\u001b[0m\n",
      "\u001b[31m[69]#011train-error:0.191371#011validation-error:0.19601#011train-accuracy:0.808629#011validation-accuracy:0.80399\u001b[0m\n",
      "\u001b[31m[70]#011train-error:0.191255#011validation-error:0.195648#011train-accuracy:0.808745#011validation-accuracy:0.804352\u001b[0m\n",
      "\u001b[31m[71]#011train-error:0.191164#011validation-error:0.195422#011train-accuracy:0.808836#011validation-accuracy:0.804578\u001b[0m\n",
      "\u001b[31m[72]#011train-error:0.191113#011validation-error:0.195332#011train-accuracy:0.808887#011validation-accuracy:0.804668\u001b[0m\n",
      "\u001b[31m[73]#011train-error:0.191126#011validation-error:0.195286#011train-accuracy:0.808874#011validation-accuracy:0.804714\u001b[0m\n",
      "\u001b[31m[74]#011train-error:0.1911#011validation-error:0.195241#011train-accuracy:0.8089#011validation-accuracy:0.804759\u001b[0m\n",
      "\u001b[31m[75]#011train-error:0.191126#011validation-error:0.195286#011train-accuracy:0.808874#011validation-accuracy:0.804714\u001b[0m\n",
      "\u001b[31m[76]#011train-error:0.191242#011validation-error:0.195286#011train-accuracy:0.808758#011validation-accuracy:0.804714\u001b[0m\n",
      "\u001b[31m[77]#011train-error:0.191229#011validation-error:0.195196#011train-accuracy:0.808771#011validation-accuracy:0.804804\u001b[0m\n",
      "\u001b[31m[78]#011train-error:0.191216#011validation-error:0.195105#011train-accuracy:0.808784#011validation-accuracy:0.804895\u001b[0m\n",
      "\u001b[31m[79]#011train-error:0.191255#011validation-error:0.195015#011train-accuracy:0.808745#011validation-accuracy:0.804985\u001b[0m\n",
      "\u001b[31m[80]#011train-error:0.191087#011validation-error:0.194653#011train-accuracy:0.808913#011validation-accuracy:0.805347\u001b[0m\n",
      "\u001b[31m[81]#011train-error:0.191151#011validation-error:0.19506#011train-accuracy:0.808849#011validation-accuracy:0.80494\u001b[0m\n",
      "\u001b[31m[82]#011train-error:0.190958#011validation-error:0.195377#011train-accuracy:0.809042#011validation-accuracy:0.804623\u001b[0m\n",
      "\u001b[31m[83]#011train-error:0.190738#011validation-error:0.19506#011train-accuracy:0.809262#011validation-accuracy:0.80494\u001b[0m\n",
      "\u001b[31m[84]#011train-error:0.190557#011validation-error:0.195332#011train-accuracy:0.809443#011validation-accuracy:0.804668\u001b[0m\n",
      "\u001b[31m[85]#011train-error:0.190518#011validation-error:0.19506#011train-accuracy:0.809482#011validation-accuracy:0.80494\u001b[0m\n",
      "\u001b[31m[86]#011train-error:0.190324#011validation-error:0.194924#011train-accuracy:0.809676#011validation-accuracy:0.805076\u001b[0m\n",
      "\u001b[31m[87]#011train-error:0.190505#011validation-error:0.195603#011train-accuracy:0.809495#011validation-accuracy:0.804397\u001b[0m\n",
      "\u001b[31m[88]#011train-error:0.190492#011validation-error:0.195965#011train-accuracy:0.809508#011validation-accuracy:0.804035\u001b[0m\n",
      "\u001b[31m[89]#011train-error:0.190402#011validation-error:0.196101#011train-accuracy:0.809598#011validation-accuracy:0.803899\u001b[0m\n",
      "\u001b[31m[90]#011train-error:0.190428#011validation-error:0.195784#011train-accuracy:0.809572#011validation-accuracy:0.804216\u001b[0m\n",
      "\u001b[31m[91]#011train-error:0.190376#011validation-error:0.195829#011train-accuracy:0.809624#011validation-accuracy:0.804171\u001b[0m\n",
      "\u001b[31m[92]#011train-error:0.190221#011validation-error:0.195693#011train-accuracy:0.809779#011validation-accuracy:0.804307\u001b[0m\n",
      "\u001b[31m[93]#011train-error:0.189949#011validation-error:0.194879#011train-accuracy:0.810051#011validation-accuracy:0.805121\u001b[0m\n",
      "\u001b[31m[94]#011train-error:0.189962#011validation-error:0.194924#011train-accuracy:0.810038#011validation-accuracy:0.805076\u001b[0m\n",
      "\u001b[31m[95]#011train-error:0.190001#011validation-error:0.195105#011train-accuracy:0.809999#011validation-accuracy:0.804895\u001b[0m\n",
      "\u001b[31m[96]#011train-error:0.190014#011validation-error:0.195196#011train-accuracy:0.809986#011validation-accuracy:0.804804\u001b[0m\n",
      "\u001b[31m[97]#011train-error:0.189549#011validation-error:0.195151#011train-accuracy:0.810451#011validation-accuracy:0.804849\u001b[0m\n",
      "\u001b[31m[98]#011train-error:0.189704#011validation-error:0.194653#011train-accuracy:0.810296#011validation-accuracy:0.805347\u001b[0m\n",
      "\u001b[31m[99]#011train-error:0.189587#011validation-error:0.194336#011train-accuracy:0.810413#011validation-accuracy:0.805664\u001b[0m\n",
      "\n",
      "2019-11-12 02:16:00 Uploading - Uploading generated training model\n",
      "2019-11-12 02:16:00 Completed - Training job completed\n",
      "Training seconds: 73\n",
      "Billable seconds: 73\n"
     ]
    }
   ],
   "source": [
    "sess = sagemaker.Session()\n",
    "\n",
    "xgb = sagemaker.estimator.Estimator(container,\n",
    "                                    role, \n",
    "                                    train_instance_count=1, \n",
    "                                    train_instance_type='ml.m4.xlarge',\n",
    "                                    output_path='s3://{}/{}/output'.format(bucket, prefix),\n",
    "                                    sagemaker_session=sess)\n",
    "xgb.set_hyperparameters(max_depth=7,\n",
    "                        eta=0.4,\n",
    "                        gamma=4,\n",
    "                        min_child_weight=6,\n",
    "                        subsample=0.8,\n",
    "                        silent=0,\n",
    "                        objective='binary:logistic',\n",
    "                        num_round=100,\n",
    "                        eval_metric='accuracy')\n",
    "\n",
    "xgb.fit({'train': s3_input_train, 'validation': s3_input_validation}) "
   ]
  },
  {
   "cell_type": "code",
   "execution_count": null,
   "metadata": {},
   "outputs": [],
   "source": [
    "#!conda install -y -c conda-forge xgboost "
   ]
  },
  {
   "cell_type": "code",
   "execution_count": 23,
   "metadata": {},
   "outputs": [
    {
     "name": "stdout",
     "output_type": "stream",
     "text": [
      "Completed 219.9 KiB/219.9 KiB (1.7 MiB/s) with 1 file(s) remaining\r",
      "download: s3://sagemaker-sf-strategenics/sagemaker/DEMO-xgboost-noShow/output/sagemaker-xgboost-2019-11-12-02-12-40-195/output/model.tar.gz to ./model.tar.gz\r\n"
     ]
    }
   ],
   "source": [
    "          \n",
    "import tarfile\n",
    "import pickle as pkl\n",
    "import xgboost\n",
    "\n",
    "# download the model artifact from AWS S3\n",
    "!aws s3 cp s3://sagemaker-sf-strategenics/sagemaker/DEMO-xgboost-noShow/output/sagemaker-xgboost-2019-11-12-02-12-40-195/output/model.tar.gz .\n",
    "\n",
    "#opens the downloaded model artifcat and loads it as 'model' variable\n",
    "tar = tarfile.open('model.tar.gz')\n",
    "tar.extractall()\n",
    "tar.close()\n",
    "model = pkl.load(open('xgboost-model', 'rb'))            "
   ]
  },
  {
   "cell_type": "code",
   "execution_count": 24,
   "metadata": {},
   "outputs": [
    {
     "data": {
      "image/png": "[encoded data removed]",
      "text/plain": [
       "<Figure size 864x864 with 1 Axes>"
      ]
     },
     "metadata": {},
     "output_type": "display_data"
    }
   ],
   "source": [
    "#map_names = dict(zip(model.feature_names, train_data[cols_input].columns))\n",
    "#model.feature_names = list(map_names.values())\n",
    "\n",
    "#plot feature importance\n",
    "fig, ax = plt.subplots(figsize=(12,12))\n",
    "xgboost.plot_importance(model, importance_type='gain', max_num_features=30, height=0.8, ax=ax, show_values = False)\n",
    "plt.title('Feature Importance')\n",
    "plt.show()"
   ]
  },
  {
   "cell_type": "code",
   "execution_count": 25,
   "metadata": {},
   "outputs": [
    {
     "name": "stdout",
     "output_type": "stream",
     "text": [
      "<class 'pandas.core.frame.DataFrame'>\n",
      "Int64Index: 77368 entries, 5664524 to 5716188\n",
      "Data columns (total 21 columns):\n",
      "Age                                             77367 non-null float64\n",
      "Scholarship                                     77368 non-null int64\n",
      "Hypertension                                    77368 non-null int64\n",
      "Diabetes                                        77368 non-null int64\n",
      "Alcoholism                                      77368 non-null int64\n",
      "Disability                                      77368 non-null int64\n",
      "SMS_received                                    77368 non-null int64\n",
      "WaitingTime                                     77366 non-null float64\n",
      "No-show_No                                      77368 non-null uint8\n",
      "No-show_Yes                                     77368 non-null uint8\n",
      "Gender_F                                        77368 non-null uint8\n",
      "Gender_M                                        77368 non-null uint8\n",
      "DayOfWeek_Friday                                77368 non-null uint8\n",
      "DayOfWeek_Monday                                77368 non-null uint8\n",
      "DayOfWeek_Saturday                              77368 non-null uint8\n",
      "DayOfWeek_Thursday                              77368 non-null uint8\n",
      "DayOfWeek_Tuesday                               77368 non-null uint8\n",
      "DayOfWeek_Wednesday                             77368 non-null uint8\n",
      "PatientHistory_At least one previous no-show    77368 non-null uint8\n",
      "PatientHistory_First appointment                77368 non-null uint8\n",
      "PatientHistory_No previous no-shows             77368 non-null uint8\n",
      "dtypes: float64(2), int64(6), uint8(13)\n",
      "memory usage: 6.3 MB\n"
     ]
    }
   ],
   "source": [
    "train_data.info()"
   ]
  },
  {
   "cell_type": "markdown",
   "metadata": {},
   "source": [
    "---\n",
    "\n",
    "## Hosting\n",
    "Now that we've trained the `xgboost` algorithm on our data, let's deploy a model that's hosted behind a real-time endpoint."
   ]
  },
  {
   "cell_type": "code",
   "execution_count": 26,
   "metadata": {},
   "outputs": [
    {
     "name": "stdout",
     "output_type": "stream",
     "text": [
      "-------------------------------------------------------------------------------------------------------------!"
     ]
    }
   ],
   "source": [
    "xgb_predictor = xgb.deploy(initial_instance_count=1,\n",
    "                           instance_type='ml.m4.xlarge')"
   ]
  },
  {
   "cell_type": "markdown",
   "metadata": {},
   "source": [
    "---\n",
    "\n",
    "## Evaluation\n",
    "There are many ways to compare the performance of a machine learning model, but let's start by simply comparing actual to predicted values.  In this case, we're simply predicting whether the customer subscribed to a term deposit (`1`) or not (`0`), which produces a simple confusion matrix.\n",
    "\n",
    "First we'll need to determine how we pass data into and receive data from our endpoint.  Our data is currently stored as NumPy arrays in memory of our notebook instance.  To send it in an HTTP POST request, we'll serialize it as a CSV string and then decode the resulting CSV.\n",
    "\n",
    "*Note: For inference with CSV format, SageMaker XGBoost requires that the data does NOT include the target variable.*"
   ]
  },
  {
   "cell_type": "code",
   "execution_count": 27,
   "metadata": {},
   "outputs": [],
   "source": [
    "xgb_predictor.content_type = 'text/csv'\n",
    "xgb_predictor.serializer = csv_serializer"
   ]
  },
  {
   "cell_type": "markdown",
   "metadata": {},
   "source": [
    "Now, we'll use a simple function to:\n",
    "1. Loop over our test dataset\n",
    "1. Split it into mini-batches of rows \n",
    "1. Convert those mini-batches to CSV string payloads (notice, we drop the target variable from our dataset first)\n",
    "1. Retrieve mini-batch predictions by invoking the XGBoost endpoint\n",
    "1. Collect predictions and convert from the CSV output our model provides into a NumPy array"
   ]
  },
  {
   "cell_type": "code",
   "execution_count": 28,
   "metadata": {},
   "outputs": [
    {
     "name": "stderr",
     "output_type": "stream",
     "text": [
      "/home/ec2-user/anaconda3/envs/python3/lib/python3.6/site-packages/ipykernel/__main__.py:9: FutureWarning: Method .as_matrix will be removed in a future version. Use .values instead.\n"
     ]
    }
   ],
   "source": [
    "def predict(data, rows=500):\n",
    "    split_array = np.array_split(data, int(data.shape[0] / float(rows) + 1))\n",
    "    predictions = ''\n",
    "    for array in split_array:\n",
    "        predictions = ','.join([predictions, xgb_predictor.predict(array).decode('utf-8')])\n",
    "\n",
    "    return np.fromstring(predictions[1:], sep=',')\n",
    "test_data.describe()\n",
    "predictions = predict(test_data.drop(['No-show_No', 'No-show_Yes'], axis=1).as_matrix())"
   ]
  },
  {
   "cell_type": "markdown",
   "metadata": {},
   "source": [
    "Now we'll check our confusion matrix to see how well we predicted versus actuals."
   ]
  },
  {
   "cell_type": "code",
   "execution_count": 29,
   "metadata": {},
   "outputs": [
    {
     "data": {
      "text/html": [
       "<div>\n",
       "<style scoped>\n",
       "    .dataframe tbody tr th:only-of-type {\n",
       "        vertical-align: middle;\n",
       "    }\n",
       "\n",
       "    .dataframe tbody tr th {\n",
       "        vertical-align: top;\n",
       "    }\n",
       "\n",
       "    .dataframe thead th {\n",
       "        text-align: right;\n",
       "    }\n",
       "</style>\n",
       "<table border=\"1\" class=\"dataframe\">\n",
       "  <thead>\n",
       "    <tr style=\"text-align: right;\">\n",
       "      <th>predictions</th>\n",
       "      <th>0.0</th>\n",
       "      <th>1.0</th>\n",
       "      <th>All</th>\n",
       "    </tr>\n",
       "    <tr>\n",
       "      <th>actuals</th>\n",
       "      <th></th>\n",
       "      <th></th>\n",
       "      <th></th>\n",
       "    </tr>\n",
       "  </thead>\n",
       "  <tbody>\n",
       "    <tr>\n",
       "      <th>0</th>\n",
       "      <td>8593</td>\n",
       "      <td>183</td>\n",
       "      <td>8776</td>\n",
       "    </tr>\n",
       "    <tr>\n",
       "      <th>1</th>\n",
       "      <td>2100</td>\n",
       "      <td>177</td>\n",
       "      <td>2277</td>\n",
       "    </tr>\n",
       "    <tr>\n",
       "      <th>All</th>\n",
       "      <td>10693</td>\n",
       "      <td>360</td>\n",
       "      <td>11053</td>\n",
       "    </tr>\n",
       "  </tbody>\n",
       "</table>\n",
       "</div>"
      ],
      "text/plain": [
       "predictions    0.0  1.0    All\n",
       "actuals                       \n",
       "0             8593  183   8776\n",
       "1             2100  177   2277\n",
       "All          10693  360  11053"
      ]
     },
     "execution_count": 29,
     "metadata": {},
     "output_type": "execute_result"
    }
   ],
   "source": [
    "pd.crosstab(index=test_data['No-show_Yes'], columns=np.round(predictions), rownames=['actuals'], colnames=['predictions'],margins=True)"
   ]
  },
  {
   "cell_type": "code",
   "execution_count": 42,
   "metadata": {},
   "outputs": [
    {
     "data": {
      "image/png": "[encoded data removed]",
      "text/plain": [
       "<Figure size 432x288 with 1 Axes>"
      ]
     },
     "metadata": {},
     "output_type": "display_data"
    },
    {
     "data": {
      "text/html": [
       "<div>\n",
       "<style scoped>\n",
       "    .dataframe tbody tr th:only-of-type {\n",
       "        vertical-align: middle;\n",
       "    }\n",
       "\n",
       "    .dataframe tbody tr th {\n",
       "        vertical-align: top;\n",
       "    }\n",
       "\n",
       "    .dataframe thead th {\n",
       "        text-align: right;\n",
       "    }\n",
       "</style>\n",
       "<table border=\"1\" class=\"dataframe\">\n",
       "  <thead>\n",
       "    <tr style=\"text-align: right;\">\n",
       "      <th>predictions</th>\n",
       "      <th>0</th>\n",
       "      <th>1</th>\n",
       "      <th>All</th>\n",
       "    </tr>\n",
       "    <tr>\n",
       "      <th>actuals</th>\n",
       "      <th></th>\n",
       "      <th></th>\n",
       "      <th></th>\n",
       "    </tr>\n",
       "  </thead>\n",
       "  <tbody>\n",
       "    <tr>\n",
       "      <th>0</th>\n",
       "      <td>6989</td>\n",
       "      <td>1787</td>\n",
       "      <td>8776</td>\n",
       "    </tr>\n",
       "    <tr>\n",
       "      <th>1</th>\n",
       "      <td>1187</td>\n",
       "      <td>1090</td>\n",
       "      <td>2277</td>\n",
       "    </tr>\n",
       "    <tr>\n",
       "      <th>All</th>\n",
       "      <td>8176</td>\n",
       "      <td>2877</td>\n",
       "      <td>11053</td>\n",
       "    </tr>\n",
       "  </tbody>\n",
       "</table>\n",
       "</div>"
      ],
      "text/plain": [
       "predictions     0     1    All\n",
       "actuals                       \n",
       "0            6989  1787   8776\n",
       "1            1187  1090   2277\n",
       "All          8176  2877  11053"
      ]
     },
     "execution_count": 42,
     "metadata": {},
     "output_type": "execute_result"
    }
   ],
   "source": [
    "plt.hist(predictions)\n",
    "plt.show()\n",
    "predictions\n",
    "pd.crosstab(index=test_data['No-show_Yes'], columns=np.where(predictions > 0.3, 1, 0), rownames=['actuals'], colnames=['predictions'],margins=True)"
   ]
  },
  {
   "cell_type": "markdown",
   "metadata": {},
   "source": [
    "In summary, of the 11053 patients, we predicted 514 would subscribe and 2277 of them actually did.  We also had 2,013 that were no-shows but we predicted as turning up.  This is less than desirable, but the model can (and should) be tuned to improve this.  \n"
   ]
  },
  {
   "cell_type": "markdown",
   "metadata": {},
   "source": [
    "### (Optional) Clean-up\n",
    "\n",
    "If you are done with this notebook, please run the cell below.  This will remove the hosted endpoint you created and avoid any charges from a stray instance being left on."
   ]
  },
  {
   "cell_type": "code",
   "execution_count": 43,
   "metadata": {},
   "outputs": [],
   "source": [
    "sagemaker.Session().delete_endpoint(xgb_predictor.endpoint)"
   ]
  },
  {
   "cell_type": "code",
   "execution_count": null,
   "metadata": {},
   "outputs": [],
   "source": []
  }
 ],
 "metadata": {
  "celltoolbar": "Tags",
  "kernelspec": {
   "display_name": "conda_python3",
   "language": "python",
   "name": "conda_python3"
  },
  "language_info": {
   "codemirror_mode": {
    "name": "ipython",
    "version": 3
   },
   "file_extension": ".py",
   "mimetype": "text/x-python",
   "name": "python",
   "nbconvert_exporter": "python",
   "pygments_lexer": "ipython3",
   "version": "3.6.5"
  },
  "notice": "Copyright 2017 Amazon.com, Inc. or its affiliates. All Rights Reserved.  Licensed under the Apache License, Version 2.0 (the \"License\"). You may not use this file except in compliance with the License. A copy of the License is located at http://aws.amazon.com/apache2.0/ or in the \"license\" file accompanying this file. This file is distributed on an \"AS IS\" BASIS, WITHOUT WARRANTIES OR CONDITIONS OF ANY KIND, either express or implied. See the License for the specific language governing permissions and limitations under the License."
 },
 "nbformat": 4,
 "nbformat_minor": 2
}
