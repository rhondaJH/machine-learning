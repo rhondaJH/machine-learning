{
 "cells": [
  {
   "cell_type": "markdown",
   "metadata": {},
   "source": [
    "# Predicting Appointment No Shows  with Amazon SageMaker XGBoost\n",
    "_**Supervised Learning with Gradient Boosted Trees: A Binary Prediction Problem**_\n",
    "\n",
    "---\n",
    "\n",
    "---\n",
    "\n",
    "## Contents\n",
    "\n",
    "1. [Background](#Background)\n",
    "1. [Prepration](#Preparation)\n",
    "1. [Data](#Data)\n",
    "    1. [Exploration](#Exploration)\n",
    "    1. [Transformation](#Transformation)\n",
    "1. [Training](#Training)\n",
    "1. [Hosting](#Hosting)\n",
    "1. [Evaluation](#Evaluation)\n",
    "1. [Exentsions](#Extensions)\n",
    "\n",
    "---\n",
    "\n",
    "## Background\n",
    "\n",
    "\n",
    "This notebook uses XGBoost to predict whether a patient will be a no-show for a medical appointment.The dataset was downloaded from Kaggle https://www.kaggle.com/joniarroba/noshowappointments. The appointment data of 110,527 records was collected from medical clinics in the city of Vitoria, Brazil, over a three month period in 2016.\n",
    "\n",
    "The following steps were undertaken:\n",
    "\n",
    "* Preparing your Amazon SageMaker notebook\n",
    "* Downloading data from the internet into Amazon SageMaker\n",
    "* Investigating and transforming the data so that it can be fed to Amazon SageMaker algorithms\n",
    "* Estimating a model using the Gradient Boosting algorithm\n",
    "* Evaluating the effectiveness of the model\n",
    "* Setting the model up to make on-going predictions\n",
    "\n",
    "---\n",
    "\n",
    "## Preparation\n",
    "\n",
    "_This notebook was created and tested on an ml.m4.xlarge notebook instance._\n",
    "\n",
    "Let's start by specifying:\n",
    "\n",
    "- The S3 bucket and prefix that you want to use for training and model data.  This should be within the same region as the Notebook Instance, training, and hosting.\n",
    "- The IAM role arn used to give training and hosting access to your data. See the documentation for how to create these.  Note, if more than one role is required for notebook instances, training, and/or hosting, please replace the boto regexp with a the appropriate full IAM role arn string(s).\n",
    "\n",
    "## Notes\n",
    "The first model uses age and waiting time as continuous features. However, the model performs poorly as the recall is very low."
   ]
  },
  {
   "cell_type": "code",
   "execution_count": 1,
   "metadata": {
    "isConfigCell": true,
    "tags": [
     "parameters"
    ]
   },
   "outputs": [],
   "source": [
    "bucket = 'sagemaker-sf-strategenics'\n",
    "prefix = 'sagemaker/DEMO-xgboost-noShow'\n",
    " \n",
    "# Define IAM role\n",
    "import boto3\n",
    "import re\n",
    "from sagemaker import get_execution_role\n",
    "\n",
    "role = get_execution_role()"
   ]
  },
  {
   "cell_type": "markdown",
   "metadata": {},
   "source": [
    "Bring in the Python libraries that we'll use throughout the analysis"
   ]
  },
  {
   "cell_type": "code",
   "execution_count": 2,
   "metadata": {},
   "outputs": [],
   "source": [
    "from datetime import date\n",
    "from datetime import time\n",
    "from datetime import datetime\n",
    "import numpy as np                                # For matrix operations and numerical processing\n",
    "import pandas as pd                               # For munging tabular data\n",
    "import matplotlib.pyplot as plt                   # For charts and visualizations\n",
    "from IPython.display import Image                 # For displaying images in the notebook\n",
    "from IPython.display import display               # For displaying outputs in the notebook\n",
    "from time import gmtime, strftime                 # For labeling SageMaker models, endpoints, etc.\n",
    "import sys                                        # For writing outputs to notebook\n",
    "import math                                       # For ceiling function\n",
    "import json                                       # For parsing hosting outputs\n",
    "import os                                         # For manipulating filepath names\n",
    "import sagemaker                                  # Amazon SageMaker's Python SDK provides many helper functions\n",
    "from sagemaker.predictor import csv_serializer    # Converts strings for HTTP POST requests on inference\n",
    "import seaborn as sns"
   ]
  },
  {
   "cell_type": "markdown",
   "metadata": {},
   "source": [
    "---\n",
    "\n",
    "## Data\n"
   ]
  },
  {
   "cell_type": "code",
   "execution_count": 16,
   "metadata": {},
   "outputs": [
    {
     "name": "stdout",
     "output_type": "stream",
     "text": [
      "No-show  NoShow\n",
      "No       0         88208\n",
      "Yes      1         22319\n",
      "dtype: int64\n",
      "PatientHistory\n",
      "At least one previous no-show    15624\n",
      "First appointment                62299\n",
      "No previous no-shows             32604\n",
      "dtype: int64\n",
      "<class 'pandas.core.frame.DataFrame'>\n",
      "Int64Index: 110527 entries, 5751990 to 5660958\n",
      "Data columns (total 12 columns):\n",
      "No-show           110527 non-null category\n",
      "Gender            110527 non-null object\n",
      "Age               110526 non-null float64\n",
      "Scholarship       110527 non-null int64\n",
      "Hypertension      110527 non-null int64\n",
      "Diabetes          110527 non-null int64\n",
      "Alcoholism        110527 non-null int64\n",
      "Disability        110527 non-null int64\n",
      "SMS_received      110527 non-null int64\n",
      "WaitingTime       110522 non-null float64\n",
      "DayOfWeek         110527 non-null object\n",
      "PatientHistory    110527 non-null object\n",
      "dtypes: category(1), float64(2), int64(6), object(3)\n",
      "memory usage: 10.2+ MB\n",
      "(77368, 21)\n",
      "(22106, 21)\n",
      "(11053, 21)\n",
      "<class 'pandas.core.frame.DataFrame'>\n",
      "Int64Index: 77368 entries, 5664524 to 5716188\n",
      "Data columns (total 21 columns):\n",
      "Age                                             77367 non-null float64\n",
      "Scholarship                                     77368 non-null int64\n",
      "Hypertension                                    77368 non-null int64\n",
      "Diabetes                                        77368 non-null int64\n",
      "Alcoholism                                      77368 non-null int64\n",
      "Disability                                      77368 non-null int64\n",
      "SMS_received                                    77368 non-null int64\n",
      "WaitingTime                                     77366 non-null float64\n",
      "No-show_No                                      77368 non-null uint8\n",
      "No-show_Yes                                     77368 non-null uint8\n",
      "Gender_F                                        77368 non-null uint8\n",
      "Gender_M                                        77368 non-null uint8\n",
      "DayOfWeek_Friday                                77368 non-null uint8\n",
      "DayOfWeek_Monday                                77368 non-null uint8\n",
      "DayOfWeek_Saturday                              77368 non-null uint8\n",
      "DayOfWeek_Thursday                              77368 non-null uint8\n",
      "DayOfWeek_Tuesday                               77368 non-null uint8\n",
      "DayOfWeek_Wednesday                             77368 non-null uint8\n",
      "PatientHistory_At least one previous no-show    77368 non-null uint8\n",
      "PatientHistory_First appointment                77368 non-null uint8\n",
      "PatientHistory_No previous no-shows             77368 non-null uint8\n",
      "dtypes: float64(2), int64(6), uint8(13)\n",
      "memory usage: 6.3 MB\n"
     ]
    }
   ],
   "source": [
    "data_key = 'appointmentData.csv'\n",
    "data_location = 's3://{}/{}'.format(bucket, data_key)\n",
    "\n",
    "noShow= pd.read_csv(data_location)\n",
    "\n",
    "pd.set_option('display.max_columns', 500)     # Make sure we can see all of the columns\n",
    "pd.set_option('display.max_rows', 20)         # Keep the output on one page\n",
    "\n",
    "noShow.rename(columns = {'Hipertension': 'Hypertension',\n",
    "                         'Handcap': 'Disabilities'}, inplace = True)\n",
    "\n",
    "#convert date columns to a date format\n",
    "noShow['tempSchedDate'] = pd.to_datetime(noShow['ScheduledDay'])\n",
    "noShow['tempAppDate'] = pd.to_datetime(noShow['AppointmentDay'])\n",
    "#get the date part of the date columns, as the Scheduled date has a time component but the appointment day does not\n",
    "noShow['AppointmentDate']= noShow['tempAppDate'].dt.date\n",
    "noShow['AppointmentBooked']= noShow['tempSchedDate'].dt.date\n",
    "#calculate the waiting time\n",
    "noShow['WaitingTime'] = (noShow.AppointmentDate - noShow.AppointmentBooked).dt.days\n",
    "\n",
    "#Find the day of the week of the appointment\n",
    "noShow['DayOfWeek'] = noShow['tempAppDate'].dt.day_name()\n",
    "\n",
    "#drop the columns no longer needed\n",
    "noShow = noShow.drop(['ScheduledDay','AppointmentDay','tempSchedDate','tempAppDate'], axis=1)\n",
    "\n",
    "noShow.PatientId = noShow.PatientId.astype('int64')\n",
    "noShow.set_index('AppointmentID', inplace = True)\n",
    "\n",
    "noShow['Age'] = np.where(noShow['Age']<0, np.nan, noShow['Age'])\n",
    "noShow['WaitingTime'] = np.where(noShow['WaitingTime']<0, np.nan, noShow['WaitingTime'])\n",
    "noShow['Disability'] = np.where(noShow['Disabilities']>1, 1, noShow['Disabilities'])\n",
    "\n",
    "#determine if a patient has had a previous appointment\n",
    "noShow.sort_values(by=['PatientId','AppointmentDate'], inplace=True)\n",
    "pd.options.display.max_rows=100\n",
    "noShow['PreviousAppointment'] = noShow.sort_values(by = ['PatientId','AppointmentDate']).groupby(['PatientId']).cumcount()\n",
    "#print(noShow[['PatientId','AppointmentDate', 'PreviousAppointment']].head(100)) \n",
    "\n",
    "\n",
    "a = noShow.groupby(pd.cut(noShow.PreviousAppointment, bins = [-1, 0,1,2,3,4,5, 85], include_lowest = True))[['PreviousAppointment']].count()\n",
    "b = pd.DataFrame(a)\n",
    "b.set_index(pd.Series(['0', '1', '2', '3', '4', '5', '> 5']))\n",
    "\n",
    "noShow['NoShow']=np.where(noShow['No-show'] == \"Yes\", 1,0)\n",
    "count = noShow.groupby(['No-show', 'NoShow']).size() \n",
    "print(count)\n",
    "\n",
    "#noShow['PreviousNoShow'] = (noShow[noShow['PreviousAppointment'] > 0].sort_values(['PatientId', 'AppointmentDate']).groupby(['PatientId'])['NoShow'].cumsum())\n",
    "noShow['NumberOfPreviousNoShow'] = (noShow.sort_values(['PatientId', 'AppointmentDate']).groupby(['PatientId'])['NoShow'].cumsum())\n",
    "noShow['PreviousNoShows']=noShow['NumberOfPreviousNoShow']-noShow['NoShow']\n",
    "\n",
    "\n",
    "def history(x):\n",
    "    if x['PreviousAppointment'] == 0 : return 'First appointment'\n",
    "    elif x['PreviousAppointment'] > 0 and x['PreviousNoShows'] == 0: return 'No previous no-shows'\n",
    "    else: return 'At least one previous no-show'\n",
    "    \n",
    "\n",
    "noShow['PatientHistory'] = noShow.apply(history,axis=1)\n",
    "\n",
    "pd.options.display.max_rows=100\n",
    "pd.set_option('display.width', 1000)\n",
    "pd.set_option('display.max_columns', 500)\n",
    "noShow.sort_values(by=['PatientId','AppointmentDate'], inplace=True)\n",
    "#print(noShow[['PatientId','AppointmentDate', 'No-show', 'PreviousAppointment','PreviousNoShows','PatientHistory']].head(100)) \n",
    "\n",
    " \n",
    "count = noShow.groupby(['PatientHistory']).size() \n",
    "print(count)\n",
    "\n",
    "noShow['No-show'] = noShow['No-show'].astype('category')\n",
    "\n",
    "noShowFinal = noShow[['No-show', 'Gender', 'Age','Scholarship','Hypertension','Diabetes','Alcoholism','Disability','SMS_received','WaitingTime','DayOfWeek','PatientHistory']].copy()\n",
    "noShowFinal.info()\n",
    "#create indicator columns for categorical columns, as requried by XGBoost\n",
    "model_data = pd.get_dummies(noShowFinal) \n",
    "model_data.head()\n",
    "\n",
    "train_data, validation_data, test_data = np.split(model_data.sample(frac=1, random_state=8147), [int(0.7 * len(model_data)), int(0.9 * len(model_data))])   # Randomly sort the data then split out first 70%, second 20%, and last 10%\n",
    "\n",
    "print(train_data.shape)\n",
    "print(validation_data.shape)\n",
    "print(test_data.shape)\n",
    "\n",
    "\n",
    "pd.concat([train_data['No-show_Yes'], train_data.drop(['No-show_No', 'No-show_Yes'], axis=1)], axis=1).to_csv('train.csv', index=False, header=False)\n",
    "pd.concat([validation_data['No-show_Yes'], validation_data.drop(['No-show_No', 'No-show_Yes'], axis=1)], axis=1).to_csv('validation.csv', index=False, header=False)\n",
    "\n",
    "boto3.Session().resource('s3').Bucket(bucket).Object(os.path.join(prefix, 'train/train.csv')).upload_file('train.csv')\n",
    "boto3.Session().resource('s3').Bucket(bucket).Object(os.path.join(prefix, 'validation/validation.csv')).upload_file('validation.csv')\n"
   ]
  },
  {
   "cell_type": "markdown",
   "metadata": {},
   "source": [
    "\n",
    "# Data Summary\n",
    "\n",
    "* There are 110,527 patient records, and 13 features for each patient\n",
    "* The features are mixed; some numeric, some categorical\n",
    "\n",
    "\n",
    "*Features:*\n",
    "* `Age`: Patient's age. Integer -1 to 115\n",
    "* `Gender`: Patient's gender, string M,F\n",
    "* `Alcoholism`: Binary, 1=yes\n",
    "* `Diabetes`:Binary, 1= yes\n",
    "* `Hypertension`:Binary, 1= yes\n",
    "* `Disabilities`: The number of disabilities for a patient. Integer, 1-4\n",
    "* `Scholarship`: This indicates whether the patient receives financial support from the government. Binary, 1=yes\n",
    "* `Neighbourhood`: This is the location of the medical clinic. String, 80 values\n",
    "* `SMS_receceived`:Whether they received a SMS reminder before the appointment. Binary, 1= yes\n",
    "* `AppointmentBooked`: Date that the appointment was booked\n",
    "* `AppointmentDate`: Date of the appointment\n",
    "* `DayOfWeek`: The weekday of the appointment. Integer, 0-5\n",
    "* `WaitingTime`: The number of days between booking the appointment and the appointment date. Integer, -6 to 179\n",
    "\n",
    "\n",
    "*Target variable:*\n",
    "* `No-show`: Was the patient a no-show? Binary: 1=yes,0=no\n",
    "Overall, 20% of the patients were no-shows."
   ]
  },
  {
   "cell_type": "markdown",
   "metadata": {},
   "source": [
    "---\n",
    "\n",
    "## Training\n",
    "Now we know that most of our features have skewed distributions, some are highly correlated with one another, and some appear to have non-linear relationships with our target variable.  Also, for targeting future prospects, good predictive accuracy is preferred to being able to explain why that prospect was targeted.  Taken together, these aspects make gradient boosted trees a good candidate algorithm.\n",
    "\n",
    "There are several intricacies to understanding the algorithm, but at a high level, gradient boosted trees works by combining predictions from many simple models, each of which tries to address the weaknesses of the previous models.  By doing this the collection of simple models can actually outperform large, complex models.  Other Amazon SageMaker notebooks elaborate on gradient boosting trees further and how they differ from similar algorithms.\n",
    "\n",
    "`xgboost` is an extremely popular, open-source package for gradient boosted trees.  It is computationally powerful, fully featured, and has been successfully used in many machine learning competitions.  Let's start with a simple `xgboost` model, trained using Amazon SageMaker's managed, distributed training framework.\n",
    "\n",
    "First we'll need to specify the ECR container location for Amazon SageMaker's implementation of XGBoost."
   ]
  },
  {
   "cell_type": "code",
   "execution_count": 3,
   "metadata": {},
   "outputs": [],
   "source": [
    "from sagemaker.amazon.amazon_estimator import get_image_uri\n",
    "container = get_image_uri(boto3.Session().region_name, 'xgboost', repo_version='0.90-1')"
   ]
  },
  {
   "cell_type": "markdown",
   "metadata": {},
   "source": [
    "Then, because we're training with the CSV file format, we'll create `s3_input`s that our training function can use as a pointer to the files in S3, which also specify that the content type is CSV."
   ]
  },
  {
   "cell_type": "code",
   "execution_count": 4,
   "metadata": {},
   "outputs": [],
   "source": [
    "s3_input_train = sagemaker.s3_input(s3_data='s3://{}/{}/train'.format(bucket, prefix), content_type='csv')\n",
    "s3_input_validation = sagemaker.s3_input(s3_data='s3://{}/{}/validation/'.format(bucket, prefix), content_type='csv')"
   ]
  },
  {
   "cell_type": "markdown",
   "metadata": {},
   "source": [
    "First we'll need to specify training parameters to the estimator.  This includes:\n",
    "1. The `xgboost` algorithm container\n",
    "1. The IAM role to use\n",
    "1. Training instance type and count\n",
    "1. S3 location for output data\n",
    "1. Algorithm hyperparameters\n",
    "\n",
    "And then a `.fit()` function which specifies:\n",
    "1. S3 location for output data.  In this case we have both a training and validation set which are passed in."
   ]
  },
  {
   "cell_type": "code",
   "execution_count": 8,
   "metadata": {},
   "outputs": [
    {
     "data": {
      "text/plain": [
       "'InProgress'"
      ]
     },
     "execution_count": 8,
     "metadata": {},
     "output_type": "execute_result"
    }
   ],
   "source": [
    "from sagemaker.tuner import IntegerParameter, CategoricalParameter, ContinuousParameter, HyperparameterTuner\n",
    "\n",
    "sess = sagemaker.Session()\n",
    "\n",
    "xgb = sagemaker.estimator.Estimator(container,\n",
    "                                    role, \n",
    "                                    train_instance_count=1, \n",
    "                                    train_instance_type='ml.m4.xlarge',\n",
    "                                    output_path='s3://{}/{}/output'.format(bucket, prefix),\n",
    "                                    sagemaker_session=sess)\n",
    "\n",
    "xgb.set_hyperparameters(eval_metric='auc',\n",
    "                        objective='binary:logistic',\n",
    "                        num_round=100,\n",
    "                        rate_drop=0.3,\n",
    "                        tweedie_variance_power=1.4)\n",
    "\n",
    "hyperparameter_ranges = {'eta': ContinuousParameter(0, 1),\n",
    "                        'min_child_weight': ContinuousParameter(1, 10),\n",
    "                        'alpha': ContinuousParameter(0, 2),\n",
    "                        'max_depth': IntegerParameter(1, 10)}\n",
    "\n",
    "objective_metric_name = 'validation:auc'\n",
    "\n",
    "tuner = HyperparameterTuner(xgb,\n",
    "                            objective_metric_name,\n",
    "                            hyperparameter_ranges,\n",
    "                            max_jobs=20,\n",
    "                            max_parallel_jobs=3)\n",
    "\n",
    "tuner.fit({'train': s3_input_train, 'validation': s3_input_validation}, include_cls_metadata=False)\n",
    "\n",
    "\n",
    "\n",
    "boto3.client('sagemaker').describe_hyper_parameter_tuning_job(\n",
    "    HyperParameterTuningJobName=tuner.latest_tuning_job.job_name)['HyperParameterTuningJobStatus']"
   ]
  },
  {
   "cell_type": "code",
   "execution_count": null,
   "metadata": {},
   "outputs": [],
   "source": [
    "#!conda install -y -c conda-forge xgboost "
   ]
  },
  {
   "cell_type": "code",
   "execution_count": 10,
   "metadata": {},
   "outputs": [
    {
     "data": {
      "text/plain": [
       "'sagemaker-xgboost-191112-2311-016-348d5e93'"
      ]
     },
     "execution_count": 10,
     "metadata": {},
     "output_type": "execute_result"
    }
   ],
   "source": [
    "tuner.best_training_job()           "
   ]
  },
  {
   "cell_type": "code",
   "execution_count": null,
   "metadata": {},
   "outputs": [],
   "source": [
    "train_data.info()"
   ]
  },
  {
   "cell_type": "markdown",
   "metadata": {},
   "source": [
    "---\n",
    "\n",
    "## Hosting\n",
    "Now that we've trained the `xgboost` algorithm on our data, let's deploy a model that's hosted behind a real-time endpoint."
   ]
  },
  {
   "cell_type": "code",
   "execution_count": null,
   "metadata": {},
   "outputs": [
    {
     "name": "stdout",
     "output_type": "stream",
     "text": [
      "2019-11-12 23:32:15 Starting - Preparing the instances for training\n",
      "2019-11-12 23:32:15 Downloading - Downloading input data\n",
      "2019-11-12 23:32:15 Training - Training image download completed. Training in progress.\n",
      "2019-11-12 23:32:15 Uploading - Uploading generated training model\n",
      "2019-11-12 23:32:15 Completed - Training job completed\u001b[31mINFO:sagemaker-containers:Imported framework sagemaker_xgboost_container.training\u001b[0m\n",
      "\u001b[31mINFO:sagemaker-containers:Failed to parse hyperparameter eval_metric value auc to Json.\u001b[0m\n",
      "\u001b[31mReturning the value itself\u001b[0m\n",
      "\u001b[31mINFO:sagemaker-containers:Failed to parse hyperparameter _tuning_objective_metric value validation:auc to Json.\u001b[0m\n",
      "\u001b[31mReturning the value itself\u001b[0m\n",
      "\u001b[31mINFO:sagemaker-containers:Failed to parse hyperparameter objective value binary:logistic to Json.\u001b[0m\n",
      "\u001b[31mReturning the value itself\u001b[0m\n",
      "\u001b[31mINFO:sagemaker-containers:No GPUs detected (normal if no gpus installed)\u001b[0m\n",
      "\u001b[31mINFO:sagemaker_xgboost_container.training:Running XGBoost Sagemaker in algorithm mode\u001b[0m\n",
      "\u001b[31mINFO:root:Determined delimiter of CSV input is ','\u001b[0m\n",
      "\u001b[31mINFO:root:Determined delimiter of CSV input is ','\u001b[0m\n",
      "\u001b[31mINFO:root:Determined delimiter of CSV input is ','\u001b[0m\n",
      "\u001b[31m[23:31:55] 77368x19 matrix with 1469992 entries loaded from /opt/ml/input/data/train?format=csv&label_column=0&delimiter=,\u001b[0m\n",
      "\u001b[31mINFO:root:Determined delimiter of CSV input is ','\u001b[0m\n",
      "\u001b[31m[23:31:55] 22106x19 matrix with 420014 entries loaded from /opt/ml/input/data/validation?format=csv&label_column=0&delimiter=,\u001b[0m\n",
      "\u001b[31mINFO:root:Single node training.\u001b[0m\n",
      "\u001b[31mINFO:root:Setting up HPO optimized metric to be : auc\u001b[0m\n",
      "\u001b[31mINFO:root:Train matrix has 77368 rows\u001b[0m\n",
      "\u001b[31mINFO:root:Validation matrix has 22106 rows\u001b[0m\n",
      "\u001b[31m[0]#011train-auc:0.74055#011validation-auc:0.735517\u001b[0m\n",
      "\u001b[31m[1]#011train-auc:0.741119#011validation-auc:0.736392\u001b[0m\n",
      "\u001b[31m[2]#011train-auc:0.741669#011validation-auc:0.73671\u001b[0m\n",
      "\u001b[31m[3]#011train-auc:0.742461#011validation-auc:0.737352\u001b[0m\n",
      "\u001b[31m[4]#011train-auc:0.742549#011validation-auc:0.737638\u001b[0m\n",
      "\u001b[31m[5]#011train-auc:0.742739#011validation-auc:0.737591\u001b[0m\n",
      "\u001b[31m[6]#011train-auc:0.743055#011validation-auc:0.737618\u001b[0m\n",
      "\u001b[31m[7]#011train-auc:0.744382#011validation-auc:0.738298\u001b[0m\n",
      "\u001b[31m[8]#011train-auc:0.744746#011validation-auc:0.738574\u001b[0m\n",
      "\u001b[31m[9]#011train-auc:0.744975#011validation-auc:0.738548\u001b[0m\n",
      "\u001b[31m[10]#011train-auc:0.745147#011validation-auc:0.73832\u001b[0m\n",
      "\u001b[31m[11]#011train-auc:0.745446#011validation-auc:0.738348\u001b[0m\n",
      "\u001b[31m[12]#011train-auc:0.745452#011validation-auc:0.738402\u001b[0m\n",
      "\u001b[31m[13]#011train-auc:0.746009#011validation-auc:0.738587\u001b[0m\n",
      "\u001b[31m[14]#011train-auc:0.746173#011validation-auc:0.738739\u001b[0m\n",
      "\u001b[31m[15]#011train-auc:0.746233#011validation-auc:0.738745\u001b[0m\n",
      "\u001b[31m[16]#011train-auc:0.746574#011validation-auc:0.739424\u001b[0m\n",
      "\u001b[31m[17]#011train-auc:0.746872#011validation-auc:0.739517\u001b[0m\n",
      "\u001b[31m[18]#011train-auc:0.747018#011validation-auc:0.739539\u001b[0m\n",
      "\u001b[31m[19]#011train-auc:0.747177#011validation-auc:0.739554\u001b[0m\n",
      "\u001b[31m[20]#011train-auc:0.747349#011validation-auc:0.739681\u001b[0m\n",
      "\u001b[31m[21]#011train-auc:0.747405#011validation-auc:0.739627\u001b[0m\n",
      "\u001b[31m[22]#011train-auc:0.747676#011validation-auc:0.739972\u001b[0m\n",
      "\u001b[31m[23]#011train-auc:0.74778#011validation-auc:0.740152\u001b[0m\n",
      "\u001b[31m[24]#011train-auc:0.748093#011validation-auc:0.740241\u001b[0m\n",
      "\u001b[31m[25]#011train-auc:0.74834#011validation-auc:0.740259\u001b[0m\n",
      "\u001b[31m[26]#011train-auc:0.748536#011validation-auc:0.740291\u001b[0m\n",
      "\u001b[31m[27]#011train-auc:0.748662#011validation-auc:0.740188\u001b[0m\n",
      "\u001b[31m[28]#011train-auc:0.748819#011validation-auc:0.740292\u001b[0m\n",
      "\u001b[31m[29]#011train-auc:0.749042#011validation-auc:0.740228\u001b[0m\n",
      "\u001b[31m[30]#011train-auc:0.749267#011validation-auc:0.740323\u001b[0m\n",
      "\u001b[31m[31]#011train-auc:0.749429#011validation-auc:0.740484\u001b[0m\n",
      "\u001b[31m[32]#011train-auc:0.749566#011validation-auc:0.740634\u001b[0m\n",
      "\u001b[31m[33]#011train-auc:0.749778#011validation-auc:0.740662\u001b[0m\n",
      "\u001b[31m[34]#011train-auc:0.749971#011validation-auc:0.740704\u001b[0m\n",
      "\u001b[31m[35]#011train-auc:0.750246#011validation-auc:0.740686\u001b[0m\n",
      "\u001b[31m[36]#011train-auc:0.750415#011validation-auc:0.74076\u001b[0m\n",
      "\u001b[31m[37]#011train-auc:0.750563#011validation-auc:0.740832\u001b[0m\n",
      "\u001b[31m[38]#011train-auc:0.750738#011validation-auc:0.740868\u001b[0m\n",
      "\u001b[31m[39]#011train-auc:0.750923#011validation-auc:0.740945\u001b[0m\n",
      "\u001b[31m[40]#011train-auc:0.751125#011validation-auc:0.741051\u001b[0m\n",
      "\u001b[31m[41]#011train-auc:0.75131#011validation-auc:0.741206\u001b[0m\n",
      "\u001b[31m[42]#011train-auc:0.751492#011validation-auc:0.741293\u001b[0m\n",
      "\u001b[31m[43]#011train-auc:0.751571#011validation-auc:0.741367\u001b[0m\n",
      "\u001b[31m[44]#011train-auc:0.751725#011validation-auc:0.741434\u001b[0m\n",
      "\u001b[31m[45]#011train-auc:0.751837#011validation-auc:0.741455\u001b[0m\n",
      "\u001b[31m[46]#011train-auc:0.751992#011validation-auc:0.741494\u001b[0m\n",
      "\u001b[31m[47]#011train-auc:0.752213#011validation-auc:0.741539\u001b[0m\n",
      "\u001b[31m[48]#011train-auc:0.752478#011validation-auc:0.741626\u001b[0m\n",
      "\u001b[31m[49]#011train-auc:0.752699#011validation-auc:0.741774\u001b[0m\n",
      "\u001b[31m[50]#011train-auc:0.752914#011validation-auc:0.741824\u001b[0m\n",
      "\u001b[31m[51]#011train-auc:0.753078#011validation-auc:0.741907\u001b[0m\n",
      "\u001b[31m[52]#011train-auc:0.753222#011validation-auc:0.741915\u001b[0m\n",
      "\u001b[31m[53]#011train-auc:0.753544#011validation-auc:0.742035\u001b[0m\n",
      "\u001b[31m[54]#011train-auc:0.753726#011validation-auc:0.74204\u001b[0m\n",
      "\u001b[31m[55]#011train-auc:0.753894#011validation-auc:0.74209\u001b[0m\n",
      "\u001b[31m[56]#011train-auc:0.754084#011validation-auc:0.742126\u001b[0m\n",
      "\u001b[31m[57]#011train-auc:0.754165#011validation-auc:0.74216\u001b[0m\n",
      "\u001b[31m[58]#011train-auc:0.754384#011validation-auc:0.74221\u001b[0m\n",
      "\u001b[31m[59]#011train-auc:0.754601#011validation-auc:0.742327\u001b[0m\n",
      "\u001b[31m[60]#011train-auc:0.754706#011validation-auc:0.742355\u001b[0m\n",
      "\u001b[31m[61]#011train-auc:0.75491#011validation-auc:0.742463\u001b[0m\n",
      "\u001b[31m[62]#011train-auc:0.755081#011validation-auc:0.742459\u001b[0m\n",
      "\u001b[31m[63]#011train-auc:0.755225#011validation-auc:0.742428\u001b[0m\n",
      "\u001b[31m[64]#011train-auc:0.755371#011validation-auc:0.742459\u001b[0m\n",
      "\u001b[31m[65]#011train-auc:0.755521#011validation-auc:0.742434\u001b[0m\n",
      "\u001b[31m[66]#011train-auc:0.755662#011validation-auc:0.742442\u001b[0m\n",
      "\u001b[31m[67]#011train-auc:0.755786#011validation-auc:0.742457\u001b[0m\n",
      "\u001b[31m[68]#011train-auc:0.755951#011validation-auc:0.742432\u001b[0m\n",
      "\u001b[31m[69]#011train-auc:0.756097#011validation-auc:0.74238\u001b[0m\n",
      "\u001b[31m[70]#011train-auc:0.75624#011validation-auc:0.74236\u001b[0m\n",
      "\u001b[31m[71]#011train-auc:0.756393#011validation-auc:0.742305\u001b[0m\n",
      "\u001b[31m[72]#011train-auc:0.7565#011validation-auc:0.742278\u001b[0m\n",
      "\u001b[31m[73]#011train-auc:0.756675#011validation-auc:0.742227\u001b[0m\n",
      "\u001b[31m[74]#011train-auc:0.75681#011validation-auc:0.742213\u001b[0m\n",
      "\u001b[31m[75]#011train-auc:0.756941#011validation-auc:0.742206\u001b[0m\n",
      "\u001b[31m[76]#011train-auc:0.757076#011validation-auc:0.742262\u001b[0m\n",
      "\u001b[31m[77]#011train-auc:0.757195#011validation-auc:0.74227\u001b[0m\n",
      "\u001b[31m[78]#011train-auc:0.757279#011validation-auc:0.742295\u001b[0m\n",
      "\u001b[31m[79]#011train-auc:0.757416#011validation-auc:0.74239\u001b[0m\n",
      "\u001b[31m[80]#011train-auc:0.757537#011validation-auc:0.742402\u001b[0m\n",
      "\u001b[31m[81]#011train-auc:0.757638#011validation-auc:0.742468\u001b[0m\n",
      "\u001b[31m[82]#011train-auc:0.757762#011validation-auc:0.742447\u001b[0m\n",
      "\u001b[31m[83]#011train-auc:0.757859#011validation-auc:0.742456\u001b[0m\n",
      "\u001b[31m[84]#011train-auc:0.757958#011validation-auc:0.742483\u001b[0m\n",
      "\u001b[31m[85]#011train-auc:0.758062#011validation-auc:0.742525\u001b[0m\n",
      "\u001b[31m[86]#011train-auc:0.758177#011validation-auc:0.742544\u001b[0m\n",
      "\u001b[31m[87]#011train-auc:0.758295#011validation-auc:0.742593\u001b[0m\n",
      "\u001b[31m[88]#011train-auc:0.758376#011validation-auc:0.742643\u001b[0m\n",
      "\u001b[31m[89]#011train-auc:0.758486#011validation-auc:0.74268\u001b[0m\n",
      "\u001b[31m[90]#011train-auc:0.758614#011validation-auc:0.742739\u001b[0m\n",
      "\u001b[31m[91]#011train-auc:0.758692#011validation-auc:0.742743\u001b[0m\n",
      "\u001b[31m[92]#011train-auc:0.758805#011validation-auc:0.742797\u001b[0m\n",
      "\u001b[31m[93]#011train-auc:0.758914#011validation-auc:0.742804\u001b[0m\n",
      "\u001b[31m[94]#011train-auc:0.759068#011validation-auc:0.742846\u001b[0m\n",
      "\u001b[31m[95]#011train-auc:0.759144#011validation-auc:0.742876\u001b[0m\n",
      "\u001b[31m[96]#011train-auc:0.759242#011validation-auc:0.742886\u001b[0m\n",
      "\u001b[31m[97]#011train-auc:0.759331#011validation-auc:0.742845\u001b[0m\n",
      "\u001b[31m[98]#011train-auc:0.759487#011validation-auc:0.742898\u001b[0m\n",
      "\u001b[31m[99]#011train-auc:0.759574#011validation-auc:0.742903\u001b[0m\n",
      "Training seconds: 64\n",
      "Billable seconds: 64\n",
      "------------------------------------------------------------------------------------------"
     ]
    }
   ],
   "source": [
    "xgb_predictor = tuner.deploy(initial_instance_count=1,\n",
    "                           instance_type='ml.m4.xlarge')\n",
    "\n"
   ]
  },
  {
   "cell_type": "markdown",
   "metadata": {},
   "source": [
    "---\n",
    "\n",
    "## Evaluation\n",
    "There are many ways to compare the performance of a machine learning model, but let's start by simply comparing actual to predicted values.  In this case, we're simply predicting whether the customer subscribed to a term deposit (`1`) or not (`0`), which produces a simple confusion matrix.\n",
    "\n",
    "First we'll need to determine how we pass data into and receive data from our endpoint.  Our data is currently stored as NumPy arrays in memory of our notebook instance.  To send it in an HTTP POST request, we'll serialize it as a CSV string and then decode the resulting CSV.\n",
    "\n",
    "*Note: For inference with CSV format, SageMaker XGBoost requires that the data does NOT include the target variable.*"
   ]
  },
  {
   "cell_type": "code",
   "execution_count": 14,
   "metadata": {},
   "outputs": [],
   "source": [
    "xgb_predictor.content_type = 'text/csv'\n",
    "xgb_predictor.serializer = csv_serializer"
   ]
  },
  {
   "cell_type": "markdown",
   "metadata": {},
   "source": [
    "Now, we'll use a simple function to:\n",
    "1. Loop over our test dataset\n",
    "1. Split it into mini-batches of rows \n",
    "1. Convert those mini-batches to CSV string payloads (notice, we drop the target variable from our dataset first)\n",
    "1. Retrieve mini-batch predictions by invoking the XGBoost endpoint\n",
    "1. Collect predictions and convert from the CSV output our model provides into a NumPy array"
   ]
  },
  {
   "cell_type": "code",
   "execution_count": 17,
   "metadata": {},
   "outputs": [
    {
     "name": "stderr",
     "output_type": "stream",
     "text": [
      "/home/ec2-user/anaconda3/envs/python3/lib/python3.6/site-packages/ipykernel/__main__.py:9: FutureWarning: Method .as_matrix will be removed in a future version. Use .values instead.\n"
     ]
    }
   ],
   "source": [
    "def predict(data, rows=500):\n",
    "    split_array = np.array_split(data, int(data.shape[0] / float(rows) + 1))\n",
    "    predictions = ''\n",
    "    for array in split_array:\n",
    "        predictions = ','.join([predictions, xgb_predictor.predict(array).decode('utf-8')])\n",
    "\n",
    "    return np.fromstring(predictions[1:], sep=',')\n",
    "test_data.describe()\n",
    "predictions = predict(test_data.drop(['No-show_No', 'No-show_Yes'], axis=1).as_matrix())"
   ]
  },
  {
   "cell_type": "markdown",
   "metadata": {},
   "source": [
    "Now we'll check our confusion matrix to see how well we predicted versus actuals."
   ]
  },
  {
   "cell_type": "code",
   "execution_count": 18,
   "metadata": {},
   "outputs": [
    {
     "data": {
      "text/html": [
       "<div>\n",
       "<style scoped>\n",
       "    .dataframe tbody tr th:only-of-type {\n",
       "        vertical-align: middle;\n",
       "    }\n",
       "\n",
       "    .dataframe tbody tr th {\n",
       "        vertical-align: top;\n",
       "    }\n",
       "\n",
       "    .dataframe thead th {\n",
       "        text-align: right;\n",
       "    }\n",
       "</style>\n",
       "<table border=\"1\" class=\"dataframe\">\n",
       "  <thead>\n",
       "    <tr style=\"text-align: right;\">\n",
       "      <th>predictions</th>\n",
       "      <th>0.0</th>\n",
       "      <th>1.0</th>\n",
       "      <th>All</th>\n",
       "    </tr>\n",
       "    <tr>\n",
       "      <th>actuals</th>\n",
       "      <th></th>\n",
       "      <th></th>\n",
       "      <th></th>\n",
       "    </tr>\n",
       "  </thead>\n",
       "  <tbody>\n",
       "    <tr>\n",
       "      <th>0</th>\n",
       "      <td>8684</td>\n",
       "      <td>92</td>\n",
       "      <td>8776</td>\n",
       "    </tr>\n",
       "    <tr>\n",
       "      <th>1</th>\n",
       "      <td>2166</td>\n",
       "      <td>111</td>\n",
       "      <td>2277</td>\n",
       "    </tr>\n",
       "    <tr>\n",
       "      <th>All</th>\n",
       "      <td>10850</td>\n",
       "      <td>203</td>\n",
       "      <td>11053</td>\n",
       "    </tr>\n",
       "  </tbody>\n",
       "</table>\n",
       "</div>"
      ],
      "text/plain": [
       "predictions    0.0  1.0    All\n",
       "actuals                       \n",
       "0             8684   92   8776\n",
       "1             2166  111   2277\n",
       "All          10850  203  11053"
      ]
     },
     "execution_count": 18,
     "metadata": {},
     "output_type": "execute_result"
    }
   ],
   "source": [
    "pd.crosstab(index=test_data['No-show_Yes'], columns=np.round(predictions), rownames=['actuals'], colnames=['predictions'],margins=True)"
   ]
  },
  {
   "cell_type": "code",
   "execution_count": 19,
   "metadata": {},
   "outputs": [
    {
     "data": {
      "image/png": "[encoded data removed]",
      "text/plain": [
       "<Figure size 432x288 with 1 Axes>"
      ]
     },
     "metadata": {},
     "output_type": "display_data"
    },
    {
     "data": {
      "text/html": [
       "<div>\n",
       "<style scoped>\n",
       "    .dataframe tbody tr th:only-of-type {\n",
       "        vertical-align: middle;\n",
       "    }\n",
       "\n",
       "    .dataframe tbody tr th {\n",
       "        vertical-align: top;\n",
       "    }\n",
       "\n",
       "    .dataframe thead th {\n",
       "        text-align: right;\n",
       "    }\n",
       "</style>\n",
       "<table border=\"1\" class=\"dataframe\">\n",
       "  <thead>\n",
       "    <tr style=\"text-align: right;\">\n",
       "      <th>predictions</th>\n",
       "      <th>0</th>\n",
       "      <th>1</th>\n",
       "      <th>All</th>\n",
       "    </tr>\n",
       "    <tr>\n",
       "      <th>actuals</th>\n",
       "      <th></th>\n",
       "      <th></th>\n",
       "      <th></th>\n",
       "    </tr>\n",
       "  </thead>\n",
       "  <tbody>\n",
       "    <tr>\n",
       "      <th>0</th>\n",
       "      <td>6885</td>\n",
       "      <td>1891</td>\n",
       "      <td>8776</td>\n",
       "    </tr>\n",
       "    <tr>\n",
       "      <th>1</th>\n",
       "      <td>1138</td>\n",
       "      <td>1139</td>\n",
       "      <td>2277</td>\n",
       "    </tr>\n",
       "    <tr>\n",
       "      <th>All</th>\n",
       "      <td>8023</td>\n",
       "      <td>3030</td>\n",
       "      <td>11053</td>\n",
       "    </tr>\n",
       "  </tbody>\n",
       "</table>\n",
       "</div>"
      ],
      "text/plain": [
       "predictions     0     1    All\n",
       "actuals                       \n",
       "0            6885  1891   8776\n",
       "1            1138  1139   2277\n",
       "All          8023  3030  11053"
      ]
     },
     "execution_count": 19,
     "metadata": {},
     "output_type": "execute_result"
    }
   ],
   "source": [
    "plt.hist(predictions)\n",
    "plt.show()\n",
    "predictions\n",
    "pd.crosstab(index=test_data['No-show_Yes'], columns=np.where(predictions > 0.3, 1, 0), rownames=['actuals'], colnames=['predictions'],margins=True)"
   ]
  },
  {
   "cell_type": "markdown",
   "metadata": {},
   "source": [
    "In summary, of the 11053 patients, we predicted 514 would subscribe and 2277 of them actually did.  We also had 2,013 that were no-shows but we predicted as turning up.  This is less than desirable, but the model can (and should) be tuned to improve this.  \n"
   ]
  },
  {
   "cell_type": "markdown",
   "metadata": {},
   "source": [
    "### (Optional) Clean-up\n",
    "\n",
    "If you are done with this notebook, please run the cell below.  This will remove the hosted endpoint you created and avoid any charges from a stray instance being left on."
   ]
  },
  {
   "cell_type": "code",
   "execution_count": null,
   "metadata": {},
   "outputs": [],
   "source": [
    "sagemaker.Session().delete_endpoint(xgb_predictor.endpoint)"
   ]
  },
  {
   "cell_type": "code",
   "execution_count": null,
   "metadata": {},
   "outputs": [],
   "source": []
  }
 ],
 "metadata": {
  "celltoolbar": "Tags",
  "kernelspec": {
   "display_name": "conda_python3",
   "language": "python",
   "name": "conda_python3"
  },
  "language_info": {
   "codemirror_mode": {
    "name": "ipython",
    "version": 3
   },
   "file_extension": ".py",
   "mimetype": "text/x-python",
   "name": "python",
   "nbconvert_exporter": "python",
   "pygments_lexer": "ipython3",
   "version": "3.6.5"
  },
  "notice": "Copyright 2017 Amazon.com, Inc. or its affiliates. All Rights Reserved.  Licensed under the Apache License, Version 2.0 (the \"License\"). You may not use this file except in compliance with the License. A copy of the License is located at http://aws.amazon.com/apache2.0/ or in the \"license\" file accompanying this file. This file is distributed on an \"AS IS\" BASIS, WITHOUT WARRANTIES OR CONDITIONS OF ANY KIND, either express or implied. See the License for the specific language governing permissions and limitations under the License."
 },
 "nbformat": 4,
 "nbformat_minor": 2
}
